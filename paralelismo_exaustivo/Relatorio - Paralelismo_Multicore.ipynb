{
 "cells": [
  {
   "cell_type": "markdown",
   "id": "547e564b",
   "metadata": {},
   "source": [
    "# Comparação Busca Exaustiva¶Paralelisado\n",
    "___\n",
    "João Guilherme Almeida"
   ]
  },
  {
   "cell_type": "markdown",
   "id": "79145284",
   "metadata": {},
   "source": [
    "# Metadologia"
   ]
  },
  {
   "cell_type": "markdown",
   "id": "78246ba1",
   "metadata": {},
   "source": [
    "### Gerar arquivo de entrada:"
   ]
  },
  {
   "cell_type": "code",
   "execution_count": 1,
   "id": "66763472",
   "metadata": {},
   "outputs": [
    {
     "name": "stdout",
     "output_type": "stream",
     "text": [
      "50\n",
      "60\n",
      "C--AA-TACC-TGAGCTCAACATT-ATAC-A-G-CGC-TACGAGAT-CCG\n",
      "TATGATG-A--GCGGTGACTT-TGCTAAGT-ACAT-AA-ACA-GGTT-CA-CCTG-CGGG\n"
     ]
    }
   ],
   "source": [
    "import random\n",
    "n = 50 # tamanho da primeira sequência\n",
    "m = 60 # tamanho da segunda sequência\n",
    "file = 'dna.seq' # nome do arquivo a ser gerado\n",
    "f = open(file, 'w')\n",
    "seq=[str(n)+'\\n',\n",
    "     str(m)+'\\n',\n",
    "     ''.join(random.choices(['A','T','C','G','-'],k=n))+'\\n',\n",
    "     ''.join(random.choices(['A','T','C','G','-'],k=m))]\n",
    "f.writelines(seq)\n",
    "f.close()\n",
    "print(''.join(seq))"
   ]
  },
  {
   "cell_type": "markdown",
   "id": "4717fe07",
   "metadata": {},
   "source": [
    "### Com o arquivo de entrada podemos rodar o primeiro programa que não está paralelizado"
   ]
  },
  {
   "cell_type": "code",
   "execution_count": 3,
   "id": "e301f54b",
   "metadata": {
    "scrolled": true
   },
   "outputs": [
    {
     "name": "stdout",
     "output_type": "stream",
     "text": [
      "Saída:\n",
      " seq1 size: 50\n",
      "seq2 size: 60\n",
      "seq1 is: C--AA-TACC-TGAGCTCAACATT-ATAC-A-G-CGC-TACGAGAT-CCG\n",
      "seq2 is: TATGATG-A--GCGGTGACTT-TGCTAAGT-ACAT-AA-ACA-GGTT-CA-CCTG-CGGG\n",
      "\n",
      "Score Maximo: 34\n",
      "Sub Seq1 Best: --AA-TACC-TGAGCTCAACATT-ATAC-A-G\n",
      "Sub Seq2 Best: ATGATG-A--GCGGTGACTT-TGCTAAGT-AC\n",
      "\n",
      "Stderr: \n",
      "Tempo total(s): 14.592622942999924\n"
     ]
    }
   ],
   "source": [
    "import subprocess\n",
    "import time\n",
    "\n",
    "with open('dna.seq') as f:\n",
    "    start = time.perf_counter()\n",
    "    proc = subprocess.run(['./busca_exaustiva_nao_paralelizado'], input=f.read(), text=True, capture_output=True)\n",
    "    end = time.perf_counter()\n",
    "\n",
    "    print('Saída:\\n', proc.stdout)\n",
    "    print('Stderr:', proc.stderr)\n",
    "    print('Tempo total(s):', end - start)"
   ]
  },
  {
   "cell_type": "markdown",
   "id": "9d58a240",
   "metadata": {},
   "source": [
    "Descobre-se que demorou 15 segundos para a entrada usada. Com isso, executamos o programa paralelizado de busca exaustiva para comparar quanto tempo a paralelização economiza:"
   ]
  },
  {
   "cell_type": "code",
   "execution_count": 4,
   "id": "5cdfb0da",
   "metadata": {},
   "outputs": [
    {
     "name": "stdout",
     "output_type": "stream",
     "text": [
      "Saída:\n",
      " seq1 size: 50\n",
      "seq2 size: 60\n",
      "seq1 is: C--AA-TACC-TGAGCTCAACATT-ATAC-A-G-CGC-TACGAGAT-CCG\n",
      "seq2 is: TATGATG-A--GCGGTGACTT-TGCTAAGT-ACAT-AA-ACA-GGTT-CA-CCTG-CGGG\n",
      "\n",
      "Score Maximo: 34\n",
      "Sub Seq1 Best: --AA-TACC-TGAGCTCAACATT-ATAC-A-G\n",
      "Sub Seq2 Best: ATGATG-A--GCGGTGACTT-TGCTAAGT-AC\n",
      "\n",
      "Stderr: \n",
      "Tempo total(s): 8.447243845999992\n"
     ]
    }
   ],
   "source": [
    "with open('dna.seq') as f:\n",
    "    start = time.perf_counter()\n",
    "    proc = subprocess.run(['./paralelismo_exaustivo'], input=f.read(), text=True, capture_output=True)\n",
    "    end = time.perf_counter()\n",
    "\n",
    "    print('Saída:\\n', proc.stdout)\n",
    "    print('Stderr:', proc.stderr)\n",
    "    print('Tempo total(s):', end - start)"
   ]
  },
  {
   "cell_type": "markdown",
   "id": "c45e7e4a",
   "metadata": {},
   "source": [
    "Com isso, descobre-se que a paralelização encontra o score das duas sequências em quase metade do tempo, comparado ao não paralelizado."
   ]
  },
  {
   "cell_type": "markdown",
   "id": "6f675afa",
   "metadata": {},
   "source": [
    "### Para gerar um arquivo txt é necessário rodar a seguinte linha de comando no terminal:\n",
    "\n",
    " ```./paralelismo_exaustivo < dna.seq > out_par.txt```\n",
    " \n",
    " ou\n",
    " \n",
    " ```./busca_exaustiva_nao_paralelizado < dna.seq > out.txt```"
   ]
  },
  {
   "cell_type": "code",
   "execution_count": null,
   "id": "0be1f663",
   "metadata": {},
   "outputs": [],
   "source": []
  }
 ],
 "metadata": {
  "kernelspec": {
   "display_name": "Python 3 (ipykernel)",
   "language": "python",
   "name": "python3"
  },
  "language_info": {
   "codemirror_mode": {
    "name": "ipython",
    "version": 3
   },
   "file_extension": ".py",
   "mimetype": "text/x-python",
   "name": "python",
   "nbconvert_exporter": "python",
   "pygments_lexer": "ipython3",
   "version": "3.8.10"
  }
 },
 "nbformat": 4,
 "nbformat_minor": 5
}
