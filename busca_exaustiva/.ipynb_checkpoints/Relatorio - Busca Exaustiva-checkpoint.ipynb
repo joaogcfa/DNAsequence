{
 "cells": [
  {
   "cell_type": "markdown",
   "id": "547e564b",
   "metadata": {},
   "source": [
    "# Busca Exaustiva para Alinhamento de Sequencias¶\n",
    "___\n",
    "João Guilherme Almeida"
   ]
  },
  {
   "cell_type": "markdown",
   "id": "79145284",
   "metadata": {},
   "source": [
    "# Metadologia"
   ]
  },
  {
   "cell_type": "markdown",
   "id": "78246ba1",
   "metadata": {},
   "source": [
    "### Gerar arquivo de entrada:"
   ]
  },
  {
   "cell_type": "code",
   "execution_count": 5,
   "id": "66763472",
   "metadata": {},
   "outputs": [
    {
     "name": "stdout",
     "output_type": "stream",
     "text": [
      "50\n",
      "60\n",
      "--T--GGA-AAA---GAGGTGGACTCGTG-C-TTGT-TA-T-GT-TCGAG\n",
      "GA-ATCCTT-C-GA-CAGA-CATGTGTA-GGA-GTGCATGGG--AAG-A-TTA-ATTAG-\n"
     ]
    }
   ],
   "source": [
    "import random\n",
    "n = 50 # tamanho da primeira sequência\n",
    "m = 60 # tamanho da segunda sequência\n",
    "file = 'dna.seq' # nome do arquivo a ser gerado\n",
    "f = open(file, 'w')\n",
    "seq=[str(n)+'\\n',\n",
    "     str(m)+'\\n',\n",
    "     ''.join(random.choices(['A','T','C','G','-'],k=n))+'\\n',\n",
    "     ''.join(random.choices(['A','T','C','G','-'],k=m))]\n",
    "f.writelines(seq)\n",
    "f.close()\n",
    "print(''.join(seq))"
   ]
  },
  {
   "cell_type": "markdown",
   "id": "4717fe07",
   "metadata": {},
   "source": [
    "### Com o arquivo de entrada podemos rodar o primeiro programa"
   ]
  },
  {
   "cell_type": "code",
   "execution_count": 6,
   "id": "e301f54b",
   "metadata": {
    "scrolled": true
   },
   "outputs": [
    {
     "name": "stdout",
     "output_type": "stream",
     "text": [
      "Saída:\n",
      " seq1 size: 50\n",
      "seq2 size: 60\n",
      "seq1 is: --T--GGA-AAA---GAGGTGGACTCGTG-C-TTGT-TA-T-GT-TCGAG\n",
      "seq2 is: GA-ATCCTT-C-GA-CAGA-CATGTGTA-GGA-GTGCATGGG--AAG-A-TTA-ATTAG-\n",
      "\n",
      "Score Maximo: 38\n",
      "Sub Seq1 Best: --T--GGA-AAA---GAGGTGGACTCGTG-C-\n",
      "Sub Seq2 Best: GA-ATCCTT-C-GA-CAGA-CATGTGTA-GGA\n",
      "\n",
      "Stderr: \n",
      "Tempo total(s): 8.717777226003818\n"
     ]
    }
   ],
   "source": [
    "import subprocess\n",
    "import time\n",
    "\n",
    "with open('dna.seq') as f:\n",
    "    start = time.perf_counter()\n",
    "    proc = subprocess.run(['./busca_exaustiva'], input=f.read(), text=True, capture_output=True)\n",
    "    end = time.perf_counter()\n",
    "\n",
    "    print('Saída:\\n', proc.stdout)\n",
    "    print('Stderr:', proc.stderr)\n",
    "    print('Tempo total(s):', end - start)"
   ]
  },
  {
   "cell_type": "markdown",
   "id": "6f675afa",
   "metadata": {},
   "source": [
    "### Para gerar um arquivo txt é necessário rodar a seguinte linha de comando no terminal:\n",
    "\n",
    " ```./busca_exaustiva < dna.seq > out.txt```"
   ]
  },
  {
   "cell_type": "markdown",
   "id": "83fb74de",
   "metadata": {},
   "source": [
    "### Para rodar o segundo programa:"
   ]
  },
  {
   "cell_type": "code",
   "execution_count": 7,
   "id": "ffa66820",
   "metadata": {},
   "outputs": [
    {
     "name": "stdout",
     "output_type": "stream",
     "text": [
      "Saída:\n",
      " seq1 size: 50\n",
      "seq2 size: 60\n",
      "seq1 is: --T--GGA-AAA---GAGGTGGACTCGTG-C-TTGT-TA-T-GT-TCGAG\n",
      "seq2 is: GA-ATCCTT-C-GA-CAGA-CATGTGTA-GGA-GTGCATGGG--AAG-A-TTA-ATTAG-\n",
      "\n",
      "Score Maximo: 14\n",
      "Sub Seq1 Best: AGG\n",
      "Sub Seq2 Best: GGG\n",
      "\n",
      "Stderr: \n",
      "Tempo total(s): 1.0396464200021\n"
     ]
    }
   ],
   "source": [
    "with open('dna.seq') as f:\n",
    "    start = time.perf_counter()\n",
    "    proc = subprocess.run(['./busca_exaustiva_trunc'], input=f.read(), text=True, capture_output=True)\n",
    "    end = time.perf_counter()\n",
    "\n",
    "    print('Saída:\\n', proc.stdout)\n",
    "    print('Stderr:', proc.stderr)\n",
    "    print('Tempo total(s):', end - start)"
   ]
  },
  {
   "cell_type": "markdown",
   "id": "c98894a2",
   "metadata": {},
   "source": [
    "### Para gerar um arquivo txt é necessário rodar a seguinte linha de comando no terminal:\n",
    "\n",
    " ```./busca_exaustiva_trunc < dna.seq > out.txt```"
   ]
  },
  {
   "cell_type": "code",
   "execution_count": null,
   "id": "0be1f663",
   "metadata": {},
   "outputs": [],
   "source": []
  }
 ],
 "metadata": {
  "kernelspec": {
   "display_name": "Python 3 (ipykernel)",
   "language": "python",
   "name": "python3"
  },
  "language_info": {
   "codemirror_mode": {
    "name": "ipython",
    "version": 3
   },
   "file_extension": ".py",
   "mimetype": "text/x-python",
   "name": "python",
   "nbconvert_exporter": "python",
   "pygments_lexer": "ipython3",
   "version": "3.8.10"
  }
 },
 "nbformat": 4,
 "nbformat_minor": 5
}
