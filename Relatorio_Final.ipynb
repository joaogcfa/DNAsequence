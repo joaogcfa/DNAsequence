{
 "cells": [
  {
   "cell_type": "markdown",
   "metadata": {
    "id": "6b173b3a"
   },
   "source": [
    "# Relatório Final\n",
    "___\n",
    "### João Guilherme Almeida"
   ]
  },
  {
   "cell_type": "code",
   "execution_count": 55,
   "metadata": {
    "id": "5d860a68"
   },
   "outputs": [],
   "source": [
    "import subprocess\n",
    "import time\n",
    "import random\n",
    "import matplotlib.pyplot as plt\n",
    "import pandas as pd"
   ]
  },
  {
   "cell_type": "code",
   "execution_count": null,
   "metadata": {
    "id": "31565806"
   },
   "outputs": [],
   "source": [
    "def roda_com_entrada(ex, in_f):\n",
    "    with open(in_f) as f:\n",
    "        start = time.perf_counter()\n",
    "        proc = subprocess.run([ex], input=f.read(), text=True, capture_output=True)\n",
    "        end = time.perf_counter()\n",
    "        return proc.stdout, end-start, "
   ]
  },
  {
   "cell_type": "markdown",
   "metadata": {
    "id": "982f1b50"
   },
   "source": [
    "# Introdução\n",
    "\n",
    "O projeto aqui presente tem o intuíto de trabalhar o problema de pareamento de sequências de DNA, ou seja, encontrar a similiaridade entre duas sequências de nucleotídeos.\n",
    "\n",
    "Para tanto, foi se debruçado sobre diversas estratégias que buscam encontrar o melhor score possível para a similiaridade entre as sequências, essas sendo:\n",
    "\n",
    "1. Heurística com Simth Waterman\n",
    "2. Busca Local com aleatoriedade\n",
    "3. Busca Exaustiva\n",
    "\n",
    "Além disso, para aprimorar a execução, foram implementados os seguintes métodos de otimização na busca exaustiva:\n",
    "1. Open MP\n",
    "2. Parelização com GPU\n"
   ]
  },
  {
   "cell_type": "markdown",
   "metadata": {
    "id": "6b08987e"
   },
   "source": [
    "# Gerando Arquivos de Entrada"
   ]
  },
  {
   "cell_type": "markdown",
   "metadata": {
    "id": "28b1a98f"
   },
   "source": [
    "Serão gerados diversos arquivos de entradas de tamanhos diversos. Isso pois para comparar as heuristicas é interessante que essas sejam submetidas a tamanhos diferentes de entradas para avaliar, não só a qualidade delas, como também, o tempo de execução por exemplo.\n",
    "\n",
    "Foram criados 400 arquivos de entrada para as heuristicas ingênuas e de busca local, e a forma de fazer os arquivos para busca exaistiva será diferente. Além disso, 5 arquivos de entrada terão as duas sequencias de mesmo tamanho, porém conteúdos diferentes. Por fim, para fazer a segunda sequência maior, foi adicionado 2 ao tamanho da primeira."
   ]
  },
  {
   "cell_type": "code",
   "execution_count": null,
   "metadata": {
    "id": "d7931290",
    "scrolled": true
   },
   "outputs": [],
   "source": [
    "for i in range(1, 400, 5): \n",
    "    for e in range(0,5):\n",
    "        n = i\n",
    "        m = i + 2\n",
    "        file = \"./inputs/dna{0}_{1}.seq\".format(i,e)\n",
    "        f = open(file, 'w')\n",
    "        seq=[str(n)+'\\n',\n",
    "             str(m)+'\\n',\n",
    "             ''.join(random.choices(['A','T','C','G','-'],k=n))+'\\n',\n",
    "             ''.join(random.choices(['A','T','C','G','-'],k=m))]\n",
    "        f.writelines(seq)\n",
    "        f.close()"
   ]
  },
  {
   "cell_type": "markdown",
   "metadata": {
    "id": "d3f6981f"
   },
   "source": [
    "Os arquivos de testes são estruturados da seguinte forma:\n",
    "1. A primeira e a segunda linha do arquivo gerado representam o tamanho da primeira e da segunda sequência respectivamente\n",
    "2. As duas últimas representam as sequências em si"
   ]
  },
  {
   "cell_type": "markdown",
   "metadata": {
    "id": "13b5c07d"
   },
   "source": [
    "# Heuristica com Smith Wallerman"
   ]
  },
  {
   "cell_type": "markdown",
   "metadata": {
    "id": "c72b2eb3"
   },
   "source": [
    "O algoritmo de Smith Wallerman se apropria de matrizes e combinações de sequências de algarismos para entregar uma nota de combinção entre estas. Esta nota é calculada através do match, missmatch e gap ou seja, quando o par de caractéres (no caso do projeto as bases nitrogenadas) são iguais, diferentes ou uma encontra uma vazia, respectivamente. É importante notar que esse algorítimo se baseia muito em exploitation."
   ]
  },
  {
   "cell_type": "markdown",
   "metadata": {
    "id": "7a252831"
   },
   "source": [
    "Com os arquivos de entrada gerados, é inicializado os teste em si. Primeiramente serão analizados os resultados e duração dos testes para a heurística ingênua com a ulitazação do alagoritimo de Smith Wallerman. Para isso, foi gerado, em primeiro lugar, uma lista com o caminho dos arquivos de entrada:"
   ]
  },
  {
   "cell_type": "code",
   "execution_count": null,
   "metadata": {
    "id": "6ae90f6b"
   },
   "outputs": [],
   "source": [
    "arqs = [f'./inputs/dna{i}_{e}.seq' for i in range(1,400,5) for e in range(0,5)]"
   ]
  },
  {
   "cell_type": "markdown",
   "metadata": {
    "id": "ee0441e7"
   },
   "source": [
    "Com isso, para cada grupo de arquivos com mesmo tamanho de entradas, é realizado o teste do grupo e armazenado o tempo de execução para cada uma desta."
   ]
  },
  {
   "cell_type": "code",
   "execution_count": null,
   "metadata": {
    "id": "xtUhZoWR3N6q"
   },
   "outputs": [],
   "source": [
    "!chmod 777 ./ingenuo/ingenuo"
   ]
  },
  {
   "cell_type": "code",
   "execution_count": null,
   "metadata": {
    "id": "297dea95"
   },
   "outputs": [],
   "source": [
    "qnt_iguais = 4\n",
    "tempos_entrada_igual = []\n",
    "tempo_medio = 0\n",
    "tempos_Heuristica = []\n",
    "contador = 0\n",
    "for arq in arqs:\n",
    "    if(contador < qnt_iguais):\n",
    "        tempos_entrada_igual.append(roda_com_entrada(\"./ingenuo/ingenuo\", arq))\n",
    "        contador += 1\n",
    "    \n",
    "    else:\n",
    "        for tempo in tempos_entrada_igual:\n",
    "            tempo_medio += float(tempo[1])\n",
    "        tempos_Heuristica.append(tempo_medio/5)\n",
    "        contador = 0\n",
    "        tempos_entrada_igual = []"
   ]
  },
  {
   "cell_type": "code",
   "execution_count": null,
   "metadata": {
    "colab": {
     "base_uri": "https://localhost:8080/"
    },
    "id": "2cfb10a0",
    "outputId": "a9eb2b67-80f2-41a8-a094-568acacbb2b7"
   },
   "outputs": [
    {
     "name": "stdout",
     "output_type": "stream",
     "text": [
      "[1, 6, 11, 16, 21, 26, 31, 36, 41, 46, 51, 56, 61, 66, 71, 76, 81, 86, 91, 96, 101, 106, 111, 116, 121, 126, 131, 136, 141, 146, 151, 156, 161, 166, 171, 176, 181, 186, 191, 196, 201, 206, 211, 216, 221, 226, 231, 236, 241, 246, 251, 256, 261, 266, 271, 276, 281, 286, 291, 296, 301, 306, 311, 316, 321, 326, 331, 336, 341, 346, 351, 356, 361, 366, 371, 376, 381, 386, 391, 396]\n"
     ]
    }
   ],
   "source": [
    "N_Heuristica = []\n",
    "qnt_iguais = 4\n",
    "contador = 0\n",
    "for arq in arqs:\n",
    "    if contador < qnt_iguais:\n",
    "        contador += 1\n",
    "    else:\n",
    "        with open(arq) as f:\n",
    "            n = int(f.readlines()[0])\n",
    "            N_Heuristica.append(n)\n",
    "        contador = 0\n",
    "print(N_Heuristica)\n"
   ]
  },
  {
   "cell_type": "code",
   "execution_count": null,
   "metadata": {
    "colab": {
     "base_uri": "https://localhost:8080/",
     "height": 350
    },
    "id": "5535c19b",
    "outputId": "c0445b5a-e0cf-4431-ed6d-32262102addd"
   },
   "outputs": [
    {
     "data": {
      "image/png": "[encoded data removed]",
      "text/plain": [
       "<Figure size 720x360 with 1 Axes>"
      ]
     },
     "metadata": {
      "needs_background": "light"
     },
     "output_type": "display_data"
    }
   ],
   "source": [
    "fig, ax = plt.subplots(figsize=(10,5))\n",
    "ax.set_xlabel('n')\n",
    "ax.set_ylabel('tempo (seg)')\n",
    "ax.scatter(N_Heuristica, tempos_Heuristica)\n",
    "plt.title(\"Tempo de execução para entradas diversas utilizando Smith-Waterman\")\n",
    "plt.show()"
   ]
  },
  {
   "cell_type": "markdown",
   "metadata": {
    "id": "3115e10c"
   },
   "source": [
    "Observa-se que, primeiramente, que a execução da heurística ingênua é muito rápida, fazendo com que todos os 400 arquivos fossem rodados em poquissimos segundos, mesmo para uma entrada muito grande."
   ]
  },
  {
   "cell_type": "markdown",
   "metadata": {
    "id": "5e772e42"
   },
   "source": [
    "___"
   ]
  },
  {
   "cell_type": "markdown",
   "metadata": {
    "id": "bb2f68be"
   },
   "source": [
    "# Busca Local"
   ]
  },
  {
   "cell_type": "markdown",
   "metadata": {
    "id": "030ed35e"
   },
   "source": [
    "Busca local é um algorítimo que se baseia mais em exploration e em pouco exploitation. Este se apropria de aleatoriedade para gerar as subsequências de diferentes tamanhos, assim através dessas sequências aleatórias calcula-se a pontuação e monta-se as sequências A e B resultantes da melhor pontuação."
   ]
  },
  {
   "cell_type": "markdown",
   "metadata": {
    "id": "2d4a33a9"
   },
   "source": [
    "Para o algorítimo de busca local, foi necessário aumentar o step de quais arquivos seriam utlizados, ou seja, diminuir o intervalo de entradas. Ainda assim, foi possível realizar o teste para entradas muito longas, com n chegando a quase 400."
   ]
  },
  {
   "cell_type": "code",
   "execution_count": null,
   "metadata": {
    "id": "bc55cc28"
   },
   "outputs": [],
   "source": [
    "arqs = [f'./inputs/dna{i}_{e}.seq' for i in range(1,400,15) for e in range(0,5)]"
   ]
  },
  {
   "cell_type": "code",
   "execution_count": null,
   "metadata": {
    "id": "d9d750b9"
   },
   "outputs": [],
   "source": [
    "qnt_iguais = 4\n",
    "tempos_entrada_igual = []\n",
    "tempo_medio = 0\n",
    "tempos_local = []\n",
    "contador = 0\n",
    "for arq in arqs:\n",
    "    if(contador < qnt_iguais):\n",
    "        tempos_entrada_igual.append(roda_com_entrada('./busca_local/busca_local', arq))\n",
    "        contador += 1\n",
    "    \n",
    "    else:\n",
    "        for tempo in tempos_entrada_igual:\n",
    "            tempo_medio += float(tempo[1])\n",
    "        tempos_local.append(tempo_medio/5)\n",
    "        contador = 0\n",
    "        tempos_entrada_igual = []"
   ]
  },
  {
   "cell_type": "code",
   "execution_count": null,
   "metadata": {
    "id": "1a882828",
    "outputId": "c070e1e1-5874-46ae-9f7d-6996c670c3df"
   },
   "outputs": [
    {
     "name": "stdout",
     "output_type": "stream",
     "text": [
      "[1, 16, 31, 46, 61, 76, 91, 106, 121, 136, 151, 166, 181, 196, 211, 226, 241, 256, 271, 286, 301, 316, 331, 346, 361, 376, 391]\n"
     ]
    }
   ],
   "source": [
    "N_local = []\n",
    "qnt_iguais = 4\n",
    "contador = 0\n",
    "for arq in arqs:\n",
    "    if contador < qnt_iguais:\n",
    "        contador += 1\n",
    "    else:\n",
    "        with open(arq) as f:\n",
    "            n = int(f.readlines()[0])\n",
    "            N_local.append(n)\n",
    "        contador = 0\n",
    "print(N_local)\n"
   ]
  },
  {
   "cell_type": "code",
   "execution_count": null,
   "metadata": {
    "id": "8c1880e1",
    "outputId": "192046c3-4111-49b6-c33b-0d324a3f776a",
    "scrolled": true
   },
   "outputs": [
    {
     "data": {
      "image/png": "[encoded data removed]",
      "text/plain": [
       "<Figure size 720x360 with 1 Axes>"
      ]
     },
     "metadata": {
      "needs_background": "light"
     },
     "output_type": "display_data"
    }
   ],
   "source": [
    "fig, ax = plt.subplots(figsize=(10,5))\n",
    "ax.set_xlabel('n')\n",
    "ax.set_ylabel('tempo (seg)')\n",
    "ax.scatter(N_local, tempos_local)\n",
    "plt.title(\"Tempo de execução para entradas diversas utilizando Busca Local\")\n",
    "plt.show()"
   ]
  },
  {
   "cell_type": "markdown",
   "metadata": {
    "id": "db27b60f"
   },
   "source": [
    "Ao realizar o teste com busca local, é possível concluir que este é muito demorado. Isso se dá principalmente porque ele tem que quebrar uma das sequencias de entrada em partes menores (utilizando p e k) e testar a combinação dessas partes com a outra sequência várias vezes. Foi necessário diminuir a quantidade de vezes que o algorítimo faz diferentes quebras de 100 para 10, para que o tempo seja possível de realizar."
   ]
  },
  {
   "cell_type": "markdown",
   "metadata": {
    "id": "d22f4df7"
   },
   "source": [
    "# Busca Exaustiva com auxílio de Smith-Waterman"
   ]
  },
  {
   "cell_type": "markdown",
   "metadata": {
    "id": "23349021"
   },
   "source": [
    "Busca exaustiva é um algorítimo que foca-se muito em exploration, sendo assim este gera todas as possíveis subsequências para conseguir encontrar a melhor combinação das sequências de entrada."
   ]
  },
  {
   "cell_type": "markdown",
   "metadata": {
    "id": "963948fb"
   },
   "source": [
    "Os arquivos de entrada para busca exaustiva tiveram que mudar muito. Primeiramente foi testado localmente que a demora para entradas com tamanhos maiores que 80 eram extremamente altas. Com isso, foi estabelicido que o máximo que a entrada possa ser era 70. Além disso, para não demorar muito, foi diminuido a quantidade de arquivos de entrada."
   ]
  },
  {
   "cell_type": "code",
   "execution_count": null,
   "metadata": {
    "id": "7c279bee",
    "scrolled": true
   },
   "outputs": [],
   "source": [
    "for i in range(5, 65, 3):\n",
    "    for e in range (0,5):\n",
    "        n = i\n",
    "        m = i + 5\n",
    "        file = \"./inputs_exaust/dna{0}_{1}.seq\".format(i,e)# nome do arquivo a ser gerado\n",
    "        f = open(file, 'w')\n",
    "        seq=[str(n)+'\\n',\n",
    "             str(m)+'\\n',\n",
    "             ''.join(random.choices(['A','T','C','G','-'],k=n))+'\\n',\n",
    "             ''.join(random.choices(['A','T','C','G','-'],k=m))]\n",
    "        f.writelines(seq)\n",
    "        f.close()"
   ]
  },
  {
   "cell_type": "code",
   "execution_count": null,
   "metadata": {
    "id": "d0f74be0",
    "scrolled": true
   },
   "outputs": [],
   "source": [
    "arqs = [f'./inputs_exaust/dna{i}_{e}.seq' for i in range(5,65,3) for e in range(0,5)]"
   ]
  },
  {
   "cell_type": "code",
   "execution_count": null,
   "metadata": {
    "id": "W-mBIluU66Ld"
   },
   "outputs": [],
   "source": [
    "!chmod 777 ./busca_exaustiva/busca_exaustiva"
   ]
  },
  {
   "cell_type": "code",
   "execution_count": null,
   "metadata": {
    "id": "744f7db4"
   },
   "outputs": [],
   "source": [
    "qnt_iguais = 4\n",
    "tempos_entrada_igual = []\n",
    "tempo_medio = 0\n",
    "tempos_exaust = []\n",
    "contador = 0\n",
    "for arq in arqs:\n",
    "    if(contador < qnt_iguais):\n",
    "        tempos_entrada_igual.append(roda_com_entrada('./busca_exaustiva/busca_exaustiva', arq))\n",
    "        contador += 1\n",
    "    \n",
    "    else:\n",
    "        for tempo in tempos_entrada_igual:\n",
    "            tempo_medio += float(tempo[1])\n",
    "        tempos_exaust.append(tempo_medio/5)\n",
    "        contador = 0\n",
    "        tempos_entrada_igual = []"
   ]
  },
  {
   "cell_type": "code",
   "execution_count": null,
   "metadata": {
    "colab": {
     "base_uri": "https://localhost:8080/"
    },
    "id": "6b625b99",
    "outputId": "efbdc423-aa43-45f2-808f-c7fe3b33a547"
   },
   "outputs": [
    {
     "name": "stdout",
     "output_type": "stream",
     "text": [
      "[5, 8, 11, 14, 17, 20, 23, 26, 29, 32, 35, 38, 41, 44, 47, 50, 53, 56, 59, 62]\n"
     ]
    }
   ],
   "source": [
    "N_exaust = []\n",
    "qnt_iguais = 4\n",
    "contador = 0\n",
    "for arq in arqs:\n",
    "    if contador < qnt_iguais:\n",
    "        contador += 1\n",
    "    else:\n",
    "        with open(arq) as f:\n",
    "            n = int(f.readlines()[0])\n",
    "            N_exaust.append(n)\n",
    "        contador = 0\n",
    "print(N_exaust)\n"
   ]
  },
  {
   "cell_type": "code",
   "execution_count": null,
   "metadata": {
    "colab": {
     "base_uri": "https://localhost:8080/",
     "height": 334
    },
    "id": "207e464c",
    "outputId": "b7936679-bdae-49d3-bc1a-0f42595b0673",
    "scrolled": true
   },
   "outputs": [
    {
     "data": {
      "image/png": "[encoded data removed]",
      "text/plain": [
       "<Figure size 720x360 with 1 Axes>"
      ]
     },
     "metadata": {
      "needs_background": "light"
     },
     "output_type": "display_data"
    }
   ],
   "source": [
    "fig, ax = plt.subplots(figsize=(10,5))\n",
    "ax.set_xlabel('n')\n",
    "ax.set_ylabel('tempo (seg)')\n",
    "ax.scatter(N_exaust, tempos_exaust)\n",
    "plt.show()"
   ]
  },
  {
   "cell_type": "markdown",
   "metadata": {
    "id": "3d3b152a"
   },
   "source": [
    "Busca Exaustiva é muito demorado porque além do que o busca local faz, esse quebra as duas sequências em todas as subsquências possíveis, logo tem que fazer o dobro do esforço."
   ]
  },
  {
   "cell_type": "markdown",
   "metadata": {
    "id": "633f93d3"
   },
   "source": [
    "___"
   ]
  },
  {
   "cell_type": "markdown",
   "metadata": {
    "id": "434bdcc3"
   },
   "source": [
    "# Busca Exaustiva com truncagem"
   ]
  },
  {
   "cell_type": "code",
   "execution_count": null,
   "metadata": {
    "id": "74d27e17"
   },
   "outputs": [],
   "source": [
    "arqs = [f'./inputs_exaust/dna{i}_{e}.seq' for i in range(5,65,3) for e in range(0,5)]"
   ]
  },
  {
   "cell_type": "code",
   "execution_count": null,
   "metadata": {
    "id": "e502954c",
    "outputId": "9a2003c9-484f-4cbb-968c-ab209c93f8f6"
   },
   "outputs": [
    {
     "ename": "OSError",
     "evalue": "[Errno 8] Exec format error: './busca_exaustiva/busca_exaustiva_trunc'",
     "output_type": "error",
     "traceback": [
      "\u001b[0;31m---------------------------------------------------------------------------\u001b[0m",
      "\u001b[0;31mOSError\u001b[0m                                   Traceback (most recent call last)",
      "\u001b[0;32m<ipython-input-7-0d236bd8a881>\u001b[0m in \u001b[0;36m<module>\u001b[0;34m\u001b[0m\n\u001b[1;32m      6\u001b[0m \u001b[0;32mfor\u001b[0m \u001b[0marq\u001b[0m \u001b[0;32min\u001b[0m \u001b[0marqs\u001b[0m\u001b[0;34m:\u001b[0m\u001b[0;34m\u001b[0m\u001b[0;34m\u001b[0m\u001b[0m\n\u001b[1;32m      7\u001b[0m     \u001b[0;32mif\u001b[0m\u001b[0;34m(\u001b[0m\u001b[0mcontador\u001b[0m \u001b[0;34m<\u001b[0m \u001b[0mqnt_iguais\u001b[0m\u001b[0;34m)\u001b[0m\u001b[0;34m:\u001b[0m\u001b[0;34m\u001b[0m\u001b[0;34m\u001b[0m\u001b[0m\n\u001b[0;32m----> 8\u001b[0;31m         \u001b[0mtempos_entrada_igual\u001b[0m\u001b[0;34m.\u001b[0m\u001b[0mappend\u001b[0m\u001b[0;34m(\u001b[0m\u001b[0mroda_com_entrada\u001b[0m\u001b[0;34m(\u001b[0m\u001b[0;34m'./busca_exaustiva/busca_exaustiva_trunc'\u001b[0m\u001b[0;34m,\u001b[0m \u001b[0marq\u001b[0m\u001b[0;34m)\u001b[0m\u001b[0;34m)\u001b[0m\u001b[0;34m\u001b[0m\u001b[0;34m\u001b[0m\u001b[0m\n\u001b[0m\u001b[1;32m      9\u001b[0m         \u001b[0mcontador\u001b[0m \u001b[0;34m+=\u001b[0m \u001b[0;36m1\u001b[0m\u001b[0;34m\u001b[0m\u001b[0;34m\u001b[0m\u001b[0m\n\u001b[1;32m     10\u001b[0m \u001b[0;34m\u001b[0m\u001b[0m\n",
      "\u001b[0;32m<ipython-input-3-3ebda41fe960>\u001b[0m in \u001b[0;36mroda_com_entrada\u001b[0;34m(ex, in_f)\u001b[0m\n\u001b[1;32m      2\u001b[0m     \u001b[0;32mwith\u001b[0m \u001b[0mopen\u001b[0m\u001b[0;34m(\u001b[0m\u001b[0min_f\u001b[0m\u001b[0;34m)\u001b[0m \u001b[0;32mas\u001b[0m \u001b[0mf\u001b[0m\u001b[0;34m:\u001b[0m\u001b[0;34m\u001b[0m\u001b[0;34m\u001b[0m\u001b[0m\n\u001b[1;32m      3\u001b[0m         \u001b[0mstart\u001b[0m \u001b[0;34m=\u001b[0m \u001b[0mtime\u001b[0m\u001b[0;34m.\u001b[0m\u001b[0mperf_counter\u001b[0m\u001b[0;34m(\u001b[0m\u001b[0;34m)\u001b[0m\u001b[0;34m\u001b[0m\u001b[0;34m\u001b[0m\u001b[0m\n\u001b[0;32m----> 4\u001b[0;31m         \u001b[0mproc\u001b[0m \u001b[0;34m=\u001b[0m \u001b[0msubprocess\u001b[0m\u001b[0;34m.\u001b[0m\u001b[0mrun\u001b[0m\u001b[0;34m(\u001b[0m\u001b[0;34m[\u001b[0m\u001b[0mex\u001b[0m\u001b[0;34m]\u001b[0m\u001b[0;34m,\u001b[0m \u001b[0minput\u001b[0m\u001b[0;34m=\u001b[0m\u001b[0mf\u001b[0m\u001b[0;34m.\u001b[0m\u001b[0mread\u001b[0m\u001b[0;34m(\u001b[0m\u001b[0;34m)\u001b[0m\u001b[0;34m,\u001b[0m \u001b[0mtext\u001b[0m\u001b[0;34m=\u001b[0m\u001b[0;32mTrue\u001b[0m\u001b[0;34m,\u001b[0m \u001b[0mcapture_output\u001b[0m\u001b[0;34m=\u001b[0m\u001b[0;32mTrue\u001b[0m\u001b[0;34m)\u001b[0m\u001b[0;34m\u001b[0m\u001b[0;34m\u001b[0m\u001b[0m\n\u001b[0m\u001b[1;32m      5\u001b[0m         \u001b[0mend\u001b[0m \u001b[0;34m=\u001b[0m \u001b[0mtime\u001b[0m\u001b[0;34m.\u001b[0m\u001b[0mperf_counter\u001b[0m\u001b[0;34m(\u001b[0m\u001b[0;34m)\u001b[0m\u001b[0;34m\u001b[0m\u001b[0;34m\u001b[0m\u001b[0m\n\u001b[1;32m      6\u001b[0m         \u001b[0;32mreturn\u001b[0m \u001b[0mproc\u001b[0m\u001b[0;34m.\u001b[0m\u001b[0mstdout\u001b[0m\u001b[0;34m,\u001b[0m \u001b[0mend\u001b[0m\u001b[0;34m-\u001b[0m\u001b[0mstart\u001b[0m\u001b[0;34m,\u001b[0m\u001b[0;34m\u001b[0m\u001b[0;34m\u001b[0m\u001b[0m\n",
      "\u001b[0;32m~/opt/anaconda3/lib/python3.8/subprocess.py\u001b[0m in \u001b[0;36mrun\u001b[0;34m(input, capture_output, timeout, check, *popenargs, **kwargs)\u001b[0m\n\u001b[1;32m    487\u001b[0m         \u001b[0mkwargs\u001b[0m\u001b[0;34m[\u001b[0m\u001b[0;34m'stderr'\u001b[0m\u001b[0;34m]\u001b[0m \u001b[0;34m=\u001b[0m \u001b[0mPIPE\u001b[0m\u001b[0;34m\u001b[0m\u001b[0;34m\u001b[0m\u001b[0m\n\u001b[1;32m    488\u001b[0m \u001b[0;34m\u001b[0m\u001b[0m\n\u001b[0;32m--> 489\u001b[0;31m     \u001b[0;32mwith\u001b[0m \u001b[0mPopen\u001b[0m\u001b[0;34m(\u001b[0m\u001b[0;34m*\u001b[0m\u001b[0mpopenargs\u001b[0m\u001b[0;34m,\u001b[0m \u001b[0;34m**\u001b[0m\u001b[0mkwargs\u001b[0m\u001b[0;34m)\u001b[0m \u001b[0;32mas\u001b[0m \u001b[0mprocess\u001b[0m\u001b[0;34m:\u001b[0m\u001b[0;34m\u001b[0m\u001b[0;34m\u001b[0m\u001b[0m\n\u001b[0m\u001b[1;32m    490\u001b[0m         \u001b[0;32mtry\u001b[0m\u001b[0;34m:\u001b[0m\u001b[0;34m\u001b[0m\u001b[0;34m\u001b[0m\u001b[0m\n\u001b[1;32m    491\u001b[0m             \u001b[0mstdout\u001b[0m\u001b[0;34m,\u001b[0m \u001b[0mstderr\u001b[0m \u001b[0;34m=\u001b[0m \u001b[0mprocess\u001b[0m\u001b[0;34m.\u001b[0m\u001b[0mcommunicate\u001b[0m\u001b[0;34m(\u001b[0m\u001b[0minput\u001b[0m\u001b[0;34m,\u001b[0m \u001b[0mtimeout\u001b[0m\u001b[0;34m=\u001b[0m\u001b[0mtimeout\u001b[0m\u001b[0;34m)\u001b[0m\u001b[0;34m\u001b[0m\u001b[0;34m\u001b[0m\u001b[0m\n",
      "\u001b[0;32m~/opt/anaconda3/lib/python3.8/subprocess.py\u001b[0m in \u001b[0;36m__init__\u001b[0;34m(self, args, bufsize, executable, stdin, stdout, stderr, preexec_fn, close_fds, shell, cwd, env, universal_newlines, startupinfo, creationflags, restore_signals, start_new_session, pass_fds, encoding, errors, text)\u001b[0m\n\u001b[1;32m    852\u001b[0m                             encoding=encoding, errors=errors)\n\u001b[1;32m    853\u001b[0m \u001b[0;34m\u001b[0m\u001b[0m\n\u001b[0;32m--> 854\u001b[0;31m             self._execute_child(args, executable, preexec_fn, close_fds,\n\u001b[0m\u001b[1;32m    855\u001b[0m                                 \u001b[0mpass_fds\u001b[0m\u001b[0;34m,\u001b[0m \u001b[0mcwd\u001b[0m\u001b[0;34m,\u001b[0m \u001b[0menv\u001b[0m\u001b[0;34m,\u001b[0m\u001b[0;34m\u001b[0m\u001b[0;34m\u001b[0m\u001b[0m\n\u001b[1;32m    856\u001b[0m                                 \u001b[0mstartupinfo\u001b[0m\u001b[0;34m,\u001b[0m \u001b[0mcreationflags\u001b[0m\u001b[0;34m,\u001b[0m \u001b[0mshell\u001b[0m\u001b[0;34m,\u001b[0m\u001b[0;34m\u001b[0m\u001b[0;34m\u001b[0m\u001b[0m\n",
      "\u001b[0;32m~/opt/anaconda3/lib/python3.8/subprocess.py\u001b[0m in \u001b[0;36m_execute_child\u001b[0;34m(self, args, executable, preexec_fn, close_fds, pass_fds, cwd, env, startupinfo, creationflags, shell, p2cread, p2cwrite, c2pread, c2pwrite, errread, errwrite, restore_signals, start_new_session)\u001b[0m\n\u001b[1;32m   1700\u001b[0m                     \u001b[0;32mif\u001b[0m \u001b[0merrno_num\u001b[0m \u001b[0;34m!=\u001b[0m \u001b[0;36m0\u001b[0m\u001b[0;34m:\u001b[0m\u001b[0;34m\u001b[0m\u001b[0;34m\u001b[0m\u001b[0m\n\u001b[1;32m   1701\u001b[0m                         \u001b[0merr_msg\u001b[0m \u001b[0;34m=\u001b[0m \u001b[0mos\u001b[0m\u001b[0;34m.\u001b[0m\u001b[0mstrerror\u001b[0m\u001b[0;34m(\u001b[0m\u001b[0merrno_num\u001b[0m\u001b[0;34m)\u001b[0m\u001b[0;34m\u001b[0m\u001b[0;34m\u001b[0m\u001b[0m\n\u001b[0;32m-> 1702\u001b[0;31m                     \u001b[0;32mraise\u001b[0m \u001b[0mchild_exception_type\u001b[0m\u001b[0;34m(\u001b[0m\u001b[0merrno_num\u001b[0m\u001b[0;34m,\u001b[0m \u001b[0merr_msg\u001b[0m\u001b[0;34m,\u001b[0m \u001b[0merr_filename\u001b[0m\u001b[0;34m)\u001b[0m\u001b[0;34m\u001b[0m\u001b[0;34m\u001b[0m\u001b[0m\n\u001b[0m\u001b[1;32m   1703\u001b[0m                 \u001b[0;32mraise\u001b[0m \u001b[0mchild_exception_type\u001b[0m\u001b[0;34m(\u001b[0m\u001b[0merr_msg\u001b[0m\u001b[0;34m)\u001b[0m\u001b[0;34m\u001b[0m\u001b[0;34m\u001b[0m\u001b[0m\n\u001b[1;32m   1704\u001b[0m \u001b[0;34m\u001b[0m\u001b[0m\n",
      "\u001b[0;31mOSError\u001b[0m: [Errno 8] Exec format error: './busca_exaustiva/busca_exaustiva_trunc'"
     ]
    }
   ],
   "source": [
    "qnt_iguais = 4\n",
    "tempos_entrada_igual = []\n",
    "tempo_medio = 0\n",
    "tempos_exaust_trunc = []\n",
    "contador = 0\n",
    "for arq in arqs:\n",
    "    if(contador < qnt_iguais):\n",
    "        tempos_entrada_igual.append(roda_com_entrada('./busca_exaustiva/busca_exaustiva_trunc', arq))\n",
    "        contador += 1\n",
    "    \n",
    "    else:\n",
    "        for tempo in tempos_entrada_igual:\n",
    "            tempo_medio += float(tempo[1])\n",
    "        tempos_exaust_trunc.append(tempo_medio/5)\n",
    "        contador = 0\n",
    "        tempos_entrada_igual = []"
   ]
  },
  {
   "cell_type": "code",
   "execution_count": null,
   "metadata": {
    "id": "54824902",
    "outputId": "d3784e2c-d38b-4317-fa0f-885374897464"
   },
   "outputs": [
    {
     "name": "stdout",
     "output_type": "stream",
     "text": [
      "[5, 8, 11, 14, 17, 20, 23, 26, 29, 32, 35, 38, 41, 44, 47, 50, 53, 56, 59, 62]\n"
     ]
    }
   ],
   "source": [
    "N_exaust_trunc = []\n",
    "qnt_iguais = 4\n",
    "contador = 0\n",
    "for arq in arqs:\n",
    "    if contador < qnt_iguais:\n",
    "        contador += 1\n",
    "    else:\n",
    "        with open(arq) as f:\n",
    "            n = int(f.readlines()[0])\n",
    "            N_exaust_trunc.append(n)\n",
    "        contador = 0\n",
    "print(N_exaust_trunc)\n"
   ]
  },
  {
   "cell_type": "code",
   "execution_count": null,
   "metadata": {
    "id": "1deaef9d",
    "outputId": "e97a4884-afbd-42e5-aa16-72afbc964158"
   },
   "outputs": [
    {
     "data": {
      "image/png": "[encoded data removed]",
      "text/plain": [
       "<Figure size 720x360 with 1 Axes>"
      ]
     },
     "metadata": {
      "needs_background": "light"
     },
     "output_type": "display_data"
    }
   ],
   "source": [
    "fig, ax = plt.subplots(figsize=(10,5))\n",
    "ax.set_xlabel('n')\n",
    "ax.set_ylabel('tempo (seg)')\n",
    "ax.scatter(N_exaust_trunc, tempos_exaust_trunc)\n",
    "plt.show()"
   ]
  },
  {
   "cell_type": "markdown",
   "metadata": {
    "id": "1b883688"
   },
   "source": [
    "___"
   ]
  },
  {
   "cell_type": "markdown",
   "metadata": {
    "id": "87736adb"
   },
   "source": [
    "# Paralelismo CPU"
   ]
  },
  {
   "cell_type": "markdown",
   "metadata": {
    "id": "09c588b0"
   },
   "source": [
    "Ao realizar o teste de execução com o busca exaustiva não truncado, é possível perceber que, como esperado, o algorítimo atinge o melhor score. Porém atingir tal qualidade custa caro, já que o tempo de realização deste é muito longo. Isso se dá majoritariamente por estarmos tratando sequencialmente o problema, ou seja, quebrando as sequências em todas as subsequências possíveis e fazendo o teste de comparação para cada par, uma depois da outra. \n",
    "\n",
    "Dessa forma, para poder diminuir o tempo de execução, vamos alterar a metodologia de sequencial para paralelizada. Primeiramente, vamos testar com a parelização na CPU, se apropriando da biblioteca OpenMP, a qual utiliza diversas threads da CPU para executar uma parte específica do programa.\n",
    "\n",
    "A questão inicial nessa etapa seria questionar qual parte do código poderia ser paralelizado. Para responder isso, basta imaginar qual é a parte sequencial do código, que poderia ser duas partes, ou a geração das subsequências ou o cálculo do score. Em tese, o ideal para parelelizar, seria fazer ambas as etapas com OpenMP, mas vamos fazer apenas no cálculo do score e ver o quanto melhora e recomendar que uma próxima iteração seria implementar o OpenMP na criação de subsequências também.\n",
    "\n",
    "![image.png](attachment:image.png)"
   ]
  },
  {
   "cell_type": "markdown",
   "metadata": {
    "id": "dc1da65d"
   },
   "source": [
    "Para implementar, foi necessário criar um struc que era composto por uma variavel numérica score e duas strings subsequenciaA e subsequenciaB. Além disso, foi criado um vetor desse struct. Assim, logo antes de calcular o score das subsquencias era necessário montar esse vetor com todas as subsequencias e scores 0. Com o vetor montado, foi realizado um paralell for que usava a paralelização das threads para calcular o score das subsequencias, de maneira paralelizada "
   ]
  },
  {
   "cell_type": "code",
   "execution_count": 56,
   "metadata": {
    "id": "f94250ae"
   },
   "outputs": [],
   "source": [
    "arqs = [f'./inputs_exaust/dna{i}_{e}.seq' for i in range(5,65,3) for e in range(0,5)]"
   ]
  },
  {
   "cell_type": "code",
   "execution_count": 58,
   "metadata": {
    "id": "c-Z9l5wDIhfk"
   },
   "outputs": [],
   "source": [
    "!chmod 777 ./paralelismo_CPU/paralelismo_exaustivo_par"
   ]
  },
  {
   "cell_type": "code",
   "execution_count": null,
   "metadata": {
    "id": "008ede08"
   },
   "outputs": [],
   "source": [
    "qnt_iguais = 4\n",
    "tempos_entrada_igual = []\n",
    "tempo_medio = 0\n",
    "tempos_exaust_par_cpu = []\n",
    "contador = 0\n",
    "for arq in arqs:\n",
    "    if(contador < qnt_iguais):\n",
    "        tempos_entrada_igual.append(roda_com_entrada('./paralelismo_CPU/paralelismo_exaustivo_par', arq))\n",
    "        contador += 1\n",
    "    \n",
    "    else:\n",
    "        for tempo in tempos_entrada_igual:\n",
    "            tempo_medio += float(tempo[1])\n",
    "        tempos_exaust_par_cpu.append(tempo_medio/5)\n",
    "        contador = 0\n",
    "        tempos_entrada_igual = []"
   ]
  },
  {
   "cell_type": "code",
   "execution_count": null,
   "metadata": {
    "id": "54df6918",
    "outputId": "f85832b1-7881-432c-c1cd-c2f236aac188"
   },
   "outputs": [
    {
     "name": "stdout",
     "output_type": "stream",
     "text": [
      "[5, 8, 11, 14, 17, 20, 23, 26, 29, 32, 35, 38, 41, 44, 47, 50, 53, 56, 59, 62]\n"
     ]
    }
   ],
   "source": [
    "N_exaust_par_cpu = []\n",
    "qnt_iguais = 4\n",
    "contador = 0\n",
    "for arq in arqs:\n",
    "    if contador < qnt_iguais:\n",
    "        contador += 1\n",
    "    else:\n",
    "        with open(arq) as f:\n",
    "            n = int(f.readlines()[0])\n",
    "            N_exaust_par_cpu.append(n)\n",
    "        contador = 0\n",
    "print(N_exaust_par_cpu)\n"
   ]
  },
  {
   "cell_type": "code",
   "execution_count": null,
   "metadata": {
    "id": "6e7b11e5",
    "outputId": "f97abd87-8fe7-4018-b69a-0565dee9b3cd",
    "scrolled": true
   },
   "outputs": [
    {
     "data": {
      "image/png": "[encoded data removed]",
      "text/plain": [
       "<Figure size 720x360 with 1 Axes>"
      ]
     },
     "metadata": {
      "needs_background": "light"
     },
     "output_type": "display_data"
    }
   ],
   "source": [
    "fig, ax = plt.subplots(figsize=(10,5))\n",
    "ax.set_xlabel('n')\n",
    "ax.set_ylabel('tempo (seg)')\n",
    "ax.scatter(N_exaust_par_cpu, tempos_exaust_par_cpu)\n",
    "plt.show()"
   ]
  },
  {
   "cell_type": "markdown",
   "metadata": {
    "id": "uBwQ1QAOaXn7"
   },
   "source": [
    "# Paralelização GPU\n",
    "\n",
    "A paralelização de dados na GPU pode aparecer atraente no cenário de alinhamento de DNA, já que é uma peça de hardware muito poderosa. Porém, é necessário entender que o nível de processamento da GPU não é signifcamente superior à da CPU. Ainda assim, é possível que a GPU cumpra a tarefa de encontrar o score de maneira mais rápida.\n",
    "\n",
    "Isso se dá pela qualidade de throughput que a GPU tem, ou seja, a alta vazão que ela apresenta. Em outras palavras, é possível entregar muitos dados a GPU e receber as alterações deles em grande volume também, algo que a CPU não tem capacidade, já que ela não aguenta a mesma quantidade de volume.\n",
    "\n",
    "Com isso em mente, para aplicar a paralelização de GPU adapatou-se toda a etapa de cálculo de score para que essa fosse realizada na GPU.\n",
    "\n",
    "\n"
   ]
  },
  {
   "cell_type": "code",
   "execution_count": null,
   "metadata": {
    "id": "3H7UKPXI4RSr"
   },
   "outputs": [],
   "source": [
    "for i in range(1, 26, 3): \n",
    "    for e in range(0,5):\n",
    "        n = i\n",
    "        m = i + 5\n",
    "        file = \"./inputs_exaust_GPU/dna{0}_{1}.seq\".format(i,e)\n",
    "        f = open(file, 'w')\n",
    "        seq=[str(n)+'\\n',\n",
    "             str(m)+'\\n',\n",
    "             ''.join(random.choices(['A','T','C','G','-'],k=n))+'\\n',\n",
    "             ''.join(random.choices(['A','T','C','G','-'],k=m))]\n",
    "        f.writelines(seq)\n",
    "        f.close()"
   ]
  },
  {
   "cell_type": "code",
   "execution_count": null,
   "metadata": {
    "id": "_Fr5GM5D5yke"
   },
   "outputs": [],
   "source": [
    "arqs = [f'./inputs_exaust_GPU/dna{i}_{e}.seq' for i in range(1, 26, 3) for e in range(0,5)]"
   ]
  },
  {
   "cell_type": "code",
   "execution_count": null,
   "metadata": {
    "id": "6m92Q9DM53Pi"
   },
   "outputs": [],
   "source": [
    "qnt_iguais = 4\n",
    "tempos_entrada_igual = []\n",
    "tempo_medio = 0\n",
    "tempos_exaust_GPU = []\n",
    "contador = 0\n",
    "for arq in arqs:\n",
    "    if(contador < qnt_iguais):\n",
    "        tempos_entrada_igual.append(roda_com_entrada('./busca_exaustiva_GPU/busca_exaustiva_GPU', arq))\n",
    "        contador += 1\n",
    "    \n",
    "    else:\n",
    "        for tempo in tempos_entrada_igual:\n",
    "            tempo_medio += float(tempo[1])\n",
    "        tempos_exaust_GPU.append(tempo_medio/5)\n",
    "        contador = 0\n",
    "        tempos_entrada_igual = []"
   ]
  },
  {
   "cell_type": "code",
   "execution_count": null,
   "metadata": {
    "colab": {
     "base_uri": "https://localhost:8080/"
    },
    "id": "-BsMkhG88jJu",
    "outputId": "78e81a03-46e8-4c10-a909-91c09b42404e"
   },
   "outputs": [
    {
     "name": "stdout",
     "output_type": "stream",
     "text": [
      "[5, 8, 11, 14, 17, 20, 23, 26, 29, 32, 35, 38, 41, 44, 47, 50, 53, 56, 59, 62]\n"
     ]
    }
   ],
   "source": [
    "N_exaust_GPU = []\n",
    "qnt_iguais = 4\n",
    "contador = 0\n",
    "for arq in arqs:\n",
    "    if contador < qnt_iguais:\n",
    "        contador += 1\n",
    "    else:\n",
    "        with open(arq) as f:\n",
    "            n = int(f.readlines()[0])\n",
    "            N_exaust_GPU.append(n)\n",
    "        contador = 0\n",
    "print(N_exaust_GPU)"
   ]
  },
  {
   "cell_type": "code",
   "execution_count": null,
   "metadata": {
    "colab": {
     "base_uri": "https://localhost:8080/",
     "height": 334
    },
    "id": "Pa8peJvf8vIx",
    "outputId": "fa0d11c3-5ad8-4723-e6ea-98250ebf61cd"
   },
   "outputs": [
    {
     "data": {
      "image/png": "[encoded data removed]",
      "text/plain": [
       "<Figure size 720x360 with 1 Axes>"
      ]
     },
     "metadata": {
      "needs_background": "light"
     },
     "output_type": "display_data"
    }
   ],
   "source": [
    "fig, ax = plt.subplots(figsize=(10,5))\n",
    "ax.set_xlabel('n')\n",
    "ax.set_ylabel('tempo (seg)')\n",
    "ax.scatter(N_exaust_GPU, tempos_exaust_GPU)\n",
    "plt.show()"
   ]
  },
  {
   "cell_type": "code",
   "execution_count": null,
   "metadata": {
    "colab": {
     "base_uri": "https://localhost:8080/"
    },
    "id": "dH267BNhacwW",
    "outputId": "09e9e788-cca5-4371-9d81-45b45b285526"
   },
   "outputs": [
    {
     "name": "stdout",
     "output_type": "stream",
     "text": [
      "nvcc warning : The 'compute_35', 'compute_37', 'compute_50', 'sm_35', 'sm_37' and 'sm_50' architectures are deprecated, and may be removed in a future release (Use -Wno-deprecated-gpu-targets to suppress warning).\n"
     ]
    }
   ],
   "source": [
    "!nvcc -arch=sm_37 -std=c++14 busca_exaustiva_GPU.cu -o busca_exaustiva_GPU_teste"
   ]
  },
  {
   "cell_type": "code",
   "execution_count": null,
   "metadata": {
    "colab": {
     "base_uri": "https://localhost:8080/"
    },
    "id": "O8NJcGjmbchy",
    "outputId": "9debcc43-b567-40d3-d28e-4e938fae88bf"
   },
   "outputs": [
    {
     "name": "stdout",
     "output_type": "stream",
     "text": [
      "terminate called after throwing an instance of 'thrust::system::detail::bad_alloc'\n",
      "  what():  std::bad_alloc: cudaErrorNoDevice: no CUDA-capable device is detected\n",
      "/bin/bash: line 1:  1820 Aborted                 (core dumped) ./busca_exaustiva_GPU_teste < dna.seq\n"
     ]
    }
   ],
   "source": [
    "!./busca_exaustiva_GPU_teste < dna.seq"
   ]
  },
  {
   "cell_type": "markdown",
   "metadata": {
    "id": "FgAayVXHGlG7"
   },
   "source": [
    "Ao executar o programa de paralelização da GPU, descobre-se que o tempo de execução é muito longo, mais longo que a não paralelização. Para poder ao menos gerar uma sequência básica de resultados, foi necessário então mudar a quantidade e o tamanho máximo de sequências de entrada.\n",
    "\n",
    "O motivo para a execução ser tão longa se dá pelo fato de o código não conseguir se apropriar tanto do recurso de alta vazão da GPU, apenas criar objetos no hardware um depois do outro e não botando todos de uma vez la. Além disso é muito demorado o ato de colocar dados na GPU, acarretando com o fato de a GPU ser mais demorada que a CPU."
   ]
  },
  {
   "cell_type": "markdown",
   "metadata": {
    "id": "6dead5f0"
   },
   "source": [
    "# Conclusão"
   ]
  },
  {
   "cell_type": "code",
   "execution_count": null,
   "metadata": {
    "id": "4ec2779b",
    "outputId": "a73fee6e-a587-4b43-e3c1-9b3acc491e89",
    "scrolled": true
   },
   "outputs": [
    {
     "ename": "NameError",
     "evalue": "name 'N_local' is not defined",
     "output_type": "error",
     "traceback": [
      "\u001b[0;31m---------------------------------------------------------------------------\u001b[0m",
      "\u001b[0;31mNameError\u001b[0m                                 Traceback (most recent call last)",
      "Input \u001b[0;32mIn [32]\u001b[0m, in \u001b[0;36m<cell line: 5>\u001b[0;34m()\u001b[0m\n\u001b[1;32m      3\u001b[0m ax\u001b[38;5;241m.\u001b[39mset_ylabel(\u001b[38;5;124m'\u001b[39m\u001b[38;5;124mtempo (seg)\u001b[39m\u001b[38;5;124m'\u001b[39m)\n\u001b[1;32m      4\u001b[0m ax\u001b[38;5;241m.\u001b[39mplot(N_Heuristica, tempos_Heuristica, label\u001b[38;5;241m=\u001b[39m\u001b[38;5;124m'\u001b[39m\u001b[38;5;124mHeuristica Ingenua\u001b[39m\u001b[38;5;124m'\u001b[39m)\n\u001b[0;32m----> 5\u001b[0m plt\u001b[38;5;241m.\u001b[39mplot(\u001b[43mN_local\u001b[49m, tempos_local, label\u001b[38;5;241m=\u001b[39m\u001b[38;5;124m'\u001b[39m\u001b[38;5;124mBusca Local\u001b[39m\u001b[38;5;124m'\u001b[39m)\n\u001b[1;32m      6\u001b[0m ax\u001b[38;5;241m.\u001b[39mplot(N_exaust, tempos_exaust, label\u001b[38;5;241m=\u001b[39m\u001b[38;5;124m'\u001b[39m\u001b[38;5;124mBusca Exaustiva\u001b[39m\u001b[38;5;124m'\u001b[39m)\n\u001b[1;32m      7\u001b[0m plt\u001b[38;5;241m.\u001b[39mplot(N_exaust_trunc, tempos_exaust_trunc, label\u001b[38;5;241m=\u001b[39m\u001b[38;5;124m'\u001b[39m\u001b[38;5;124mBusca Exaustiva Trunc\u001b[39m\u001b[38;5;124m'\u001b[39m)\n",
      "\u001b[0;31mNameError\u001b[0m: name 'N_local' is not defined"
     ]
    },
    {
     "data": {
      "image/png": "[encoded data removed]",
      "text/plain": [
       "<Figure size 720x360 with 1 Axes>"
      ]
     },
     "metadata": {
      "needs_background": "light"
     },
     "output_type": "display_data"
    }
   ],
   "source": [
    "fig, ax = plt.subplots(figsize=(10,5))\n",
    "ax.set_xlabel('n')\n",
    "ax.set_ylabel('tempo (seg)')\n",
    "ax.plot(N_Heuristica, tempos_Heuristica, label='Heuristica Ingenua')\n",
    "plt.plot(N_local, tempos_local, label='Busca Local')\n",
    "ax.plot(N_exaust, tempos_exaust, label='Busca Exaustiva')\n",
    "plt.plot(N_exaust_trunc, tempos_exaust_trunc, label='Busca Exaustiva Trunc')\n",
    "plt.legend()\n",
    "plt.show()"
   ]
  },
  {
   "cell_type": "markdown",
   "metadata": {
    "id": "c3d8e8a3"
   },
   "source": [
    "Com o gráfico acima, é facilmente possível de perceber que o algorítimo ingênuo é o mais rápido para qualquer tamanho de entrada e o Busca Exaustiva (com o auxílio do algorítimo de Smith-Wallerman) é extremamente demorado para entradas de n grande. A crescente demora para a relização desses algorítimos (de Ingênuo para busca local, busca exaustiva truncada e busca exaustiva) se dá pelo fato de os mais demorados tem que quebrar as entradas e fazer diversas combinações a mais."
   ]
  },
  {
   "cell_type": "code",
   "execution_count": null,
   "metadata": {
    "id": "o4U31Z2TIEDW"
   },
   "outputs": [],
   "source": [
    "fig, ax = plt.subplots(figsize=(10,5))\n",
    "ax.set_xlabel('n')\n",
    "ax.set_ylabel('tempo (seg)')\n",
    "ax.plot(N_exaust, tempos_exaust, label='Busca Exaustiva')\n",
    "plt.plot(N_exaust_par_cpu, tempos_exaust_par_cpu, label='Busca Exaustiva CPU')\n",
    "plt.plot(N_exaust_GPU, tempos_exaust_GPU, label='Busca Exaustiva GPU')\n",
    "plt.legend()\n",
    "plt.show()"
   ]
  },
  {
   "cell_type": "markdown",
   "metadata": {
    "id": "17b69252"
   },
   "source": [
    "## Comparação dos resultados:"
   ]
  },
  {
   "cell_type": "markdown",
   "metadata": {
    "id": "71f55a4b"
   },
   "source": [
    "Para comparar qual algorítimo consegue atingir melhores resultados de pontução foi fixado duas entradas de tamanho 60 tanto para a primeira, quanto para a segunda sequencia"
   ]
  },
  {
   "cell_type": "markdown",
   "metadata": {
    "id": "be538f1b"
   },
   "source": [
    "GA-C-TCC-GACACTCAGCCTTCAGGC-G-ATGCGCAT-G--TCCGTCGCA-AAGATT-G\n",
    "GG-AGT-TGGCA-ATG-G-G-CGTTA-ACC--AG-TGCGCTCGGGA-AC-TCCGAGACG-"
   ]
  },
  {
   "cell_type": "markdown",
   "metadata": {
    "id": "6e4f293d"
   },
   "source": [
    "Com isso foram obtidos os resultados:"
   ]
  },
  {
   "cell_type": "markdown",
   "metadata": {
    "id": "554b3b16"
   },
   "source": [
    "Ingênuo:"
   ]
  },
  {
   "cell_type": "raw",
   "metadata": {
    "id": "bd689817"
   },
   "source": [
    "comb1: G-A-C-TCC-GACAC-TCAGC--C-TTCAGGC--G-A--TGCGCAT-G-------TCCGTCG-CA-\n",
    "comb2: G-AGT-TG--G-CA-ATG-G-G-CGTT-A-ACC---AG-TGCGC-TCGGGA-AC-TCCGA-GACG-\n",
    "score: 33\n"
   ]
  },
  {
   "cell_type": "markdown",
   "metadata": {
    "id": "56eba4e8"
   },
   "source": [
    "Busca local:"
   ]
  },
  {
   "cell_type": "raw",
   "metadata": {
    "id": "cfd06b1b"
   },
   "source": [
    "BEST SCORE:32\n",
    "SA: TCAGCCTTCAGGC-G-ATGCGCAT-G--TCCGTCGCA-AAGATT-G\n",
    "SB: TGG-CGTTA-ACC--AG-TGCGCTCGGGA-AC-TCCGAGACGTTA-\n"
   ]
  },
  {
   "cell_type": "markdown",
   "metadata": {
    "id": "daabd633"
   },
   "source": [
    "Busca exaustiva Smithen Wallerman"
   ]
  },
  {
   "cell_type": "raw",
   "metadata": {
    "id": "296ca4cf"
   },
   "source": [
    "Score Maximo: 35\n",
    "Sub Seq1 Best: GA-C-TCC-GACACTCAGCCTTCAGGC-G-AT\n",
    "Sub Seq2 Best: GG-AGT-TGGCA-ATG-G-G-CGTTA-ACC--\n"
   ]
  },
  {
   "cell_type": "markdown",
   "metadata": {
    "id": "951e9a5a"
   },
   "source": [
    "Busca exaustiva com truncamento"
   ]
  },
  {
   "cell_type": "raw",
   "metadata": {
    "id": "c360cc02"
   },
   "source": [
    "Score Maximo: 9\n",
    "Sub Seq1 Best: GGC\n",
    "Sub Seq2 Best: GGG"
   ]
  },
  {
   "cell_type": "markdown",
   "metadata": {
    "id": "58784574"
   },
   "source": [
    "O ponto interessante da comparação entre os scores dos algorítimos é que o busca exaustiva teve o melhor desempenho, porém não um tão melhor quanto o ingênuo. Isso gera uma dúvida a respeito da relevância de se utilizar o busca exaustiva, já que ele é muito demorado e não possui um resultado tão melhor quanto o ingênuo. Ao mesmo tempo, seria necessário fazer mais testes. \n",
    "\n",
    "Além disso, algo curioso foi o resultado do algorítimo aleatório do busca local que obteve um score adequado, podendo ser bem utilizado em cenários para familiarizar com a situação e validar um score de um outro algorítimo.\n",
    "\n",
    "Por fim, o busca exaustiva com truncamento se demonstrou muito pouco eficiente por ser demorado e possuir um desempenho de score muito ruim."
   ]
  },
  {
   "cell_type": "code",
   "execution_count": null,
   "metadata": {
    "id": "724d2df8",
    "outputId": "fd1a54cf-3b97-449d-e837-1e5aa06a0dc9"
   },
   "outputs": [
    {
     "data": {
      "text/html": [
       "<div>\n",
       "<style scoped>\n",
       "    .dataframe tbody tr th:only-of-type {\n",
       "        vertical-align: middle;\n",
       "    }\n",
       "\n",
       "    .dataframe tbody tr th {\n",
       "        vertical-align: top;\n",
       "    }\n",
       "\n",
       "    .dataframe thead th {\n",
       "        text-align: right;\n",
       "    }\n",
       "</style>\n",
       "<table border=\"1\" class=\"dataframe\">\n",
       "  <thead>\n",
       "    <tr style=\"text-align: right;\">\n",
       "      <th></th>\n",
       "      <th>Não paralelizado</th>\n",
       "      <th>Paralelizado</th>\n",
       "    </tr>\n",
       "  </thead>\n",
       "  <tbody>\n",
       "    <tr>\n",
       "      <th>0</th>\n",
       "      <td>0.006954</td>\n",
       "      <td>0.010616</td>\n",
       "    </tr>\n",
       "    <tr>\n",
       "      <th>1</th>\n",
       "      <td>0.016163</td>\n",
       "      <td>0.024658</td>\n",
       "    </tr>\n",
       "    <tr>\n",
       "      <th>2</th>\n",
       "      <td>0.030317</td>\n",
       "      <td>0.048397</td>\n",
       "    </tr>\n",
       "    <tr>\n",
       "      <th>3</th>\n",
       "      <td>0.053075</td>\n",
       "      <td>0.087411</td>\n",
       "    </tr>\n",
       "    <tr>\n",
       "      <th>4</th>\n",
       "      <td>0.097386</td>\n",
       "      <td>0.138741</td>\n",
       "    </tr>\n",
       "    <tr>\n",
       "      <th>5</th>\n",
       "      <td>0.178873</td>\n",
       "      <td>0.240458</td>\n",
       "    </tr>\n",
       "    <tr>\n",
       "      <th>6</th>\n",
       "      <td>0.316140</td>\n",
       "      <td>0.401426</td>\n",
       "    </tr>\n",
       "    <tr>\n",
       "      <th>7</th>\n",
       "      <td>0.555034</td>\n",
       "      <td>0.651321</td>\n",
       "    </tr>\n",
       "    <tr>\n",
       "      <th>8</th>\n",
       "      <td>0.971724</td>\n",
       "      <td>1.138858</td>\n",
       "    </tr>\n",
       "    <tr>\n",
       "      <th>9</th>\n",
       "      <td>1.651595</td>\n",
       "      <td>1.796275</td>\n",
       "    </tr>\n",
       "    <tr>\n",
       "      <th>10</th>\n",
       "      <td>2.687907</td>\n",
       "      <td>2.731999</td>\n",
       "    </tr>\n",
       "    <tr>\n",
       "      <th>11</th>\n",
       "      <td>4.326689</td>\n",
       "      <td>4.263735</td>\n",
       "    </tr>\n",
       "    <tr>\n",
       "      <th>12</th>\n",
       "      <td>6.651358</td>\n",
       "      <td>6.668139</td>\n",
       "    </tr>\n",
       "    <tr>\n",
       "      <th>13</th>\n",
       "      <td>10.026995</td>\n",
       "      <td>10.314679</td>\n",
       "    </tr>\n",
       "    <tr>\n",
       "      <th>14</th>\n",
       "      <td>15.041343</td>\n",
       "      <td>14.911834</td>\n",
       "    </tr>\n",
       "    <tr>\n",
       "      <th>15</th>\n",
       "      <td>21.624945</td>\n",
       "      <td>21.463747</td>\n",
       "    </tr>\n",
       "    <tr>\n",
       "      <th>16</th>\n",
       "      <td>31.344755</td>\n",
       "      <td>31.014682</td>\n",
       "    </tr>\n",
       "    <tr>\n",
       "      <th>17</th>\n",
       "      <td>43.424136</td>\n",
       "      <td>42.443424</td>\n",
       "    </tr>\n",
       "    <tr>\n",
       "      <th>18</th>\n",
       "      <td>60.862534</td>\n",
       "      <td>58.170330</td>\n",
       "    </tr>\n",
       "    <tr>\n",
       "      <th>19</th>\n",
       "      <td>82.333375</td>\n",
       "      <td>78.383613</td>\n",
       "    </tr>\n",
       "  </tbody>\n",
       "</table>\n",
       "</div>"
      ],
      "text/plain": [
       "    Não paralelizado  Paralelizado\n",
       "0           0.006954      0.010616\n",
       "1           0.016163      0.024658\n",
       "2           0.030317      0.048397\n",
       "3           0.053075      0.087411\n",
       "4           0.097386      0.138741\n",
       "5           0.178873      0.240458\n",
       "6           0.316140      0.401426\n",
       "7           0.555034      0.651321\n",
       "8           0.971724      1.138858\n",
       "9           1.651595      1.796275\n",
       "10          2.687907      2.731999\n",
       "11          4.326689      4.263735\n",
       "12          6.651358      6.668139\n",
       "13         10.026995     10.314679\n",
       "14         15.041343     14.911834\n",
       "15         21.624945     21.463747\n",
       "16         31.344755     31.014682\n",
       "17         43.424136     42.443424\n",
       "18         60.862534     58.170330\n",
       "19         82.333375     78.383613"
      ]
     },
     "execution_count": 40,
     "metadata": {},
     "output_type": "execute_result"
    }
   ],
   "source": [
    "df = pd.DataFrame(list(zip(tempos_exaust, tempos_exaust_par_cpu)),\n",
    "               columns =['Não paralelizado', 'Paralelizado'])\n",
    "df"
   ]
  },
  {
   "cell_type": "markdown",
   "metadata": {
    "id": "0988ee63"
   },
   "source": [
    "## Profiling"
   ]
  },
  {
   "cell_type": "markdown",
   "metadata": {
    "id": "f29aa0b0"
   },
   "source": [
    "Realizado vallgrind com a mesma entrada acima"
   ]
  },
  {
   "cell_type": "markdown",
   "metadata": {
    "id": "c2cda0c9"
   },
   "source": [
    "Ingenuo"
   ]
  },
  {
   "cell_type": "markdown",
   "metadata": {
    "id": "7dc60c72"
   },
   "source": [
    "![SmithIngenuo1.png](attachment:SmithIngenuo1.png)"
   ]
  },
  {
   "cell_type": "markdown",
   "metadata": {
    "id": "2f9f628a"
   },
   "source": [
    "![passandomatrix.png](attachment:passandomatrix.png)"
   ]
  },
  {
   "cell_type": "markdown",
   "metadata": {
    "id": "13d255ad"
   },
   "source": [
    "Busca Local"
   ]
  },
  {
   "cell_type": "markdown",
   "metadata": {
    "id": "c3b1cd9a"
   },
   "source": [
    "![busca_local.png](attachment:busca_local.png)"
   ]
  },
  {
   "cell_type": "markdown",
   "metadata": {
    "id": "d4077e5c"
   },
   "source": [
    "Busca Exaustiva SmithWallerman"
   ]
  },
  {
   "cell_type": "markdown",
   "metadata": {
    "id": "a348c765"
   },
   "source": [
    "![busca_exaustiva_Smith_part.png](attachment:busca_exaustiva_Smith_part.png)"
   ]
  },
  {
   "cell_type": "markdown",
   "metadata": {
    "id": "729f3d49"
   },
   "source": [
    "![busca_exaustiva.png](attachment:busca_exaustiva.png)"
   ]
  },
  {
   "cell_type": "markdown",
   "metadata": {
    "id": "6fff2b65"
   },
   "source": [
    "Busca Exaustiva Trunc"
   ]
  },
  {
   "cell_type": "markdown",
   "metadata": {
    "id": "769de863"
   },
   "source": [
    "![Busca_exaustiva_trunc.png](attachment:Busca_exaustiva_trunc.png)"
   ]
  },
  {
   "cell_type": "markdown",
   "metadata": {
    "id": "b72eae06"
   },
   "source": [
    "Com o uso de vallgrind é possível perceber que em todos os algorítimos o que causa maior lentidão são os fors. Esses deveriam ser evitados para melhorar a lentidão. Além disso, seria melhor se não fosse utlizado matrizes, já que muitas vezes é necessário percorrer por toda ela."
   ]
  }
 ],
 "metadata": {
  "accelerator": "GPU",
  "colab": {
   "collapsed_sections": [
    "bb2f68be",
    "d22f4df7",
    "434bdcc3",
    "17b69252",
    "0988ee63"
   ],
   "name": "Relatorio Final.ipynb",
   "provenance": []
  },
  "kernelspec": {
   "display_name": "Python 3",
   "language": "python",
   "name": "python3"
  },
  "language_info": {
   "codemirror_mode": {
    "name": "ipython",
    "version": 3
   },
   "file_extension": ".py",
   "mimetype": "text/x-python",
   "name": "python",
   "nbconvert_exporter": "python",
   "pygments_lexer": "ipython3",
   "version": "3.8.3"
  }
 },
 "nbformat": 4,
 "nbformat_minor": 5
}
