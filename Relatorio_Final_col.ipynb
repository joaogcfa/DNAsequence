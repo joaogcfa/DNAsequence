{
  "cells": [
    {
      "cell_type": "markdown",
      "id": "6b173b3a",
      "metadata": {
        "id": "6b173b3a"
      },
      "source": [
        "# Relatório Final\n",
        "___\n",
        "### João Guilherme Almeida"
      ]
    },
    {
      "cell_type": "code",
      "execution_count": 4,
      "id": "5d860a68",
      "metadata": {
        "id": "5d860a68"
      },
      "outputs": [],
      "source": [
        "import subprocess\n",
        "import time\n",
        "import random\n",
        "import matplotlib.pyplot as plt\n",
        "import pandas as pd"
      ]
    },
    {
      "cell_type": "code",
      "execution_count": 5,
      "id": "31565806",
      "metadata": {
        "id": "31565806"
      },
      "outputs": [],
      "source": [
        "def roda_com_entrada(ex, in_f):\n",
        "    with open(in_f) as f:\n",
        "        start = time.perf_counter()\n",
        "        proc = subprocess.run([ex], input=f.read(), text=True, capture_output=True)\n",
        "        end = time.perf_counter()\n",
        "        return proc.stdout, end-start, "
      ]
    },
    {
      "cell_type": "markdown",
      "id": "982f1b50",
      "metadata": {
        "id": "982f1b50"
      },
      "source": [
        "# Introdução\n",
        "\n",
        "O projeto aqui presente tem o intuíto de trabalhar o problema de pareamento de sequências de DNA, ou seja, encontrar a similiaridade entre duas sequências de nucleotídeos.\n",
        "\n",
        "Para tanto, foi se debruçado sobre diversas estratégias que buscam encontrar o melhor score possível para a similiaridade entre as sequências, essas sendo:\n",
        "\n",
        "1. Heurística com Simth Waterman\n",
        "2. Busca Local com aleatoriedade\n",
        "3. Busca Exaustiva\n",
        "\n",
        "Além disso, para aprimorar a execução, foram implementados os seguintes métodos de otimização na busca exaustiva:\n",
        "1. Open MP\n",
        "2. Parelização com GPU\n"
      ]
    },
    {
      "cell_type": "markdown",
      "id": "6b08987e",
      "metadata": {
        "id": "6b08987e"
      },
      "source": [
        "# Gerando Arquivos de Entrada"
      ]
    },
    {
      "cell_type": "markdown",
      "id": "28b1a98f",
      "metadata": {
        "id": "28b1a98f"
      },
      "source": [
        "Serão gerados diversos arquivos de entradas de tamanhos diversos. Isso pois para comparar as heuristicas é interessante que essas sejam submetidas a tamanhos diferentes de entradas para avaliar, não só a qualidade delas, como também, o tempo de execução por exemplo.\n",
        "\n",
        "Foram criados 400 arquivos de entrada para as heuristicas ingênuas e de busca local, e a forma de fazer os arquivos para busca exaistiva será diferente. Além disso, 5 arquivos de entrada terão as duas sequencias de mesmo tamanho, porém conteúdos diferentes. Por fim, para fazer a segunda sequência maior, foi adicionado 2 ao tamanho da primeira."
      ]
    },
    {
      "cell_type": "code",
      "execution_count": 6,
      "id": "d7931290",
      "metadata": {
        "id": "d7931290",
        "scrolled": true
      },
      "outputs": [],
      "source": [
        "for i in range(1, 400, 5): \n",
        "    for e in range(0,5):\n",
        "        n = i\n",
        "        m = i + 2\n",
        "        file = \"./inputs/dna{0}_{1}.seq\".format(i,e)\n",
        "        f = open(file, 'w')\n",
        "        seq=[str(n)+'\\n',\n",
        "             str(m)+'\\n',\n",
        "             ''.join(random.choices(['A','T','C','G','-'],k=n))+'\\n',\n",
        "             ''.join(random.choices(['A','T','C','G','-'],k=m))]\n",
        "        f.writelines(seq)\n",
        "        f.close()"
      ]
    },
    {
      "cell_type": "markdown",
      "id": "d3f6981f",
      "metadata": {
        "id": "d3f6981f"
      },
      "source": [
        "Os arquivos de testes são estruturados da seguinte forma:\n",
        "1. A primeira e a segunda linha do arquivo gerado representam o tamanho da primeira e da segunda sequência respectivamente\n",
        "2. As duas últimas representam as sequências em si"
      ]
    },
    {
      "cell_type": "markdown",
      "id": "13b5c07d",
      "metadata": {
        "id": "13b5c07d"
      },
      "source": [
        "# Heuristica com Smith Wallerman"
      ]
    },
    {
      "cell_type": "markdown",
      "id": "c72b2eb3",
      "metadata": {
        "id": "c72b2eb3"
      },
      "source": [
        "O algoritmo de Smith Wallerman se apropria de matrizes e combinações de sequências de algarismos para entregar uma nota de combinção entre estas. Esta nota é calculada através do match, missmatch e gap ou seja, quando o par de caractéres (no caso do projeto as bases nitrogenadas) são iguais, diferentes ou uma encontra uma vazia, respectivamente. É importante notar que esse algorítimo se baseia muito em exploitation."
      ]
    },
    {
      "cell_type": "markdown",
      "id": "7a252831",
      "metadata": {
        "id": "7a252831"
      },
      "source": [
        "Com os arquivos de entrada gerados, é inicializado os teste em si. Primeiramente serão analizados os resultados e duração dos testes para a heurística ingênua com a ulitazação do alagoritimo de Smith Wallerman. Para isso, foi gerado, em primeiro lugar, uma lista com o caminho dos arquivos de entrada:"
      ]
    },
    {
      "cell_type": "code",
      "execution_count": 7,
      "id": "6ae90f6b",
      "metadata": {
        "id": "6ae90f6b"
      },
      "outputs": [],
      "source": [
        "arqs = [f'./inputs/dna{i}_{e}.seq' for i in range(1,400,5) for e in range(0,5)]"
      ]
    },
    {
      "cell_type": "markdown",
      "id": "ee0441e7",
      "metadata": {
        "id": "ee0441e7"
      },
      "source": [
        "Com isso, para cada grupo de arquivos com mesmo tamanho de entradas, é realizado o teste do grupo e armazenado o tempo de execução para cada uma desta."
      ]
    },
    {
      "cell_type": "code",
      "execution_count": 8,
      "id": "297dea95",
      "metadata": {
        "id": "297dea95"
      },
      "outputs": [],
      "source": [
        "qnt_iguais = 4\n",
        "tempos_entrada_igual = []\n",
        "tempo_medio = 0\n",
        "tempos_Heuristica = []\n",
        "contador = 0\n",
        "for arq in arqs:\n",
        "    if(contador < qnt_iguais):\n",
        "        tempos_entrada_igual.append(roda_com_entrada(\"./ingenuo/ingenuo\", arq))\n",
        "        contador += 1\n",
        "    \n",
        "    else:\n",
        "        for tempo in tempos_entrada_igual:\n",
        "            tempo_medio += float(tempo[1])\n",
        "        tempos_Heuristica.append(tempo_medio/5)\n",
        "        contador = 0\n",
        "        tempos_entrada_igual = []"
      ]
    },
    {
      "cell_type": "code",
      "execution_count": 9,
      "id": "2cfb10a0",
      "metadata": {
        "colab": {
          "base_uri": "https://localhost:8080/"
        },
        "id": "2cfb10a0",
        "outputId": "a9eb2b67-80f2-41a8-a094-568acacbb2b7"
      },
      "outputs": [
        {
          "name": "stdout",
          "output_type": "stream",
          "text": [
            "[1, 6, 11, 16, 21, 26, 31, 36, 41, 46, 51, 56, 61, 66, 71, 76, 81, 86, 91, 96, 101, 106, 111, 116, 121, 126, 131, 136, 141, 146, 151, 156, 161, 166, 171, 176, 181, 186, 191, 196, 201, 206, 211, 216, 221, 226, 231, 236, 241, 246, 251, 256, 261, 266, 271, 276, 281, 286, 291, 296, 301, 306, 311, 316, 321, 326, 331, 336, 341, 346, 351, 356, 361, 366, 371, 376, 381, 386, 391, 396]\n"
          ]
        }
      ],
      "source": [
        "N_Heuristica = []\n",
        "qnt_iguais = 4\n",
        "contador = 0\n",
        "for arq in arqs:\n",
        "    if contador < qnt_iguais:\n",
        "        contador += 1\n",
        "    else:\n",
        "        with open(arq) as f:\n",
        "            n = int(f.readlines()[0])\n",
        "            N_Heuristica.append(n)\n",
        "        contador = 0\n",
        "print(N_Heuristica)\n"
      ]
    },
    {
      "cell_type": "code",
      "execution_count": 10,
      "id": "5535c19b",
      "metadata": {
        "colab": {
          "base_uri": "https://localhost:8080/",
          "height": 350
        },
        "id": "5535c19b",
        "outputId": "c0445b5a-e0cf-4431-ed6d-32262102addd"
      },
      "outputs": [
        {
          "data": {
            "image/png": "[encoded data removed]",
            "text/plain": [
              "<Figure size 720x360 with 1 Axes>"
            ]
          },
          "metadata": {
            "needs_background": "light"
          },
          "output_type": "display_data"
        }
      ],
      "source": [
        "fig, ax = plt.subplots(figsize=(10,5))\n",
        "ax.set_xlabel('n')\n",
        "ax.set_ylabel('tempo (seg)')\n",
        "ax.scatter(N_Heuristica, tempos_Heuristica)\n",
        "plt.title(\"Tempo de execução para entradas diversas utilizando Smith-Waterman\")\n",
        "plt.show()"
      ]
    },
    {
      "cell_type": "markdown",
      "id": "3115e10c",
      "metadata": {
        "id": "3115e10c"
      },
      "source": [
        "Observa-se que, primeiramente, que a execução da heurística ingênua é muito rápida, fazendo com que todos os 400 arquivos fossem rodados em poquissimos segundos, mesmo para uma entrada muito grande."
      ]
    },
    {
      "cell_type": "markdown",
      "id": "5e772e42",
      "metadata": {
        "id": "5e772e42"
      },
      "source": [
        "___"
      ]
    },
    {
      "cell_type": "markdown",
      "id": "bb2f68be",
      "metadata": {
        "id": "bb2f68be"
      },
      "source": [
        "# Busca Local"
      ]
    },
    {
      "cell_type": "markdown",
      "id": "030ed35e",
      "metadata": {
        "id": "030ed35e"
      },
      "source": [
        "Busca local é um algorítimo que se baseia mais em exploration e em pouco exploitation. Este se apropria de aleatoriedade para gerar as subsequências de diferentes tamanhos, assim através dessas sequências aleatórias calcula-se a pontuação e monta-se as sequências A e B resultantes da melhor pontuação."
      ]
    },
    {
      "cell_type": "markdown",
      "id": "2d4a33a9",
      "metadata": {
        "id": "2d4a33a9"
      },
      "source": [
        "Para o algorítimo de busca local, foi necessário aumentar o step de quais arquivos seriam utlizados, ou seja, diminuir o intervalo de entradas. Ainda assim, foi possível realizar o teste para entradas muito longas, com n chegando a quase 400."
      ]
    },
    {
      "cell_type": "code",
      "execution_count": 11,
      "id": "bc55cc28",
      "metadata": {
        "id": "bc55cc28"
      },
      "outputs": [],
      "source": [
        "arqs = [f'./inputs/dna{i}_{e}.seq' for i in range(1,400,15) for e in range(0,5)]"
      ]
    },
    {
      "cell_type": "code",
      "execution_count": 12,
      "id": "d9d750b9",
      "metadata": {
        "id": "d9d750b9"
      },
      "outputs": [],
      "source": [
        "qnt_iguais = 4\n",
        "tempos_entrada_igual = []\n",
        "tempo_medio = 0\n",
        "tempos_local = []\n",
        "contador = 0\n",
        "for arq in arqs:\n",
        "    if(contador < qnt_iguais):\n",
        "        tempos_entrada_igual.append(roda_com_entrada('./busca_local/busca_local', arq))\n",
        "        contador += 1\n",
        "    \n",
        "    else:\n",
        "        for tempo in tempos_entrada_igual:\n",
        "            tempo_medio += float(tempo[1])\n",
        "        tempos_local.append(tempo_medio/5)\n",
        "        contador = 0\n",
        "        tempos_entrada_igual = []"
      ]
    },
    {
      "cell_type": "code",
      "execution_count": 13,
      "id": "1a882828",
      "metadata": {
        "id": "1a882828",
        "outputId": "c070e1e1-5874-46ae-9f7d-6996c670c3df"
      },
      "outputs": [
        {
          "name": "stdout",
          "output_type": "stream",
          "text": [
            "[1, 16, 31, 46, 61, 76, 91, 106, 121, 136, 151, 166, 181, 196, 211, 226, 241, 256, 271, 286, 301, 316, 331, 346, 361, 376, 391]\n"
          ]
        }
      ],
      "source": [
        "N_local = []\n",
        "qnt_iguais = 4\n",
        "contador = 0\n",
        "for arq in arqs:\n",
        "    if contador < qnt_iguais:\n",
        "        contador += 1\n",
        "    else:\n",
        "        with open(arq) as f:\n",
        "            n = int(f.readlines()[0])\n",
        "            N_local.append(n)\n",
        "        contador = 0\n",
        "print(N_local)\n"
      ]
    },
    {
      "cell_type": "code",
      "execution_count": 14,
      "id": "8c1880e1",
      "metadata": {
        "id": "8c1880e1",
        "outputId": "192046c3-4111-49b6-c33b-0d324a3f776a",
        "scrolled": true
      },
      "outputs": [
        {
          "data": {
            "image/png": "[encoded data removed]",
            "text/plain": [
              "<Figure size 720x360 with 1 Axes>"
            ]
          },
          "metadata": {
            "needs_background": "light"
          },
          "output_type": "display_data"
        }
      ],
      "source": [
        "fig, ax = plt.subplots(figsize=(10,5))\n",
        "ax.set_xlabel('n')\n",
        "ax.set_ylabel('tempo (seg)')\n",
        "ax.scatter(N_local, tempos_local)\n",
        "plt.title(\"Tempo de execução para entradas diversas utilizando Busca Local\")\n",
        "plt.show()"
      ]
    },
    {
      "cell_type": "markdown",
      "id": "db27b60f",
      "metadata": {
        "id": "db27b60f"
      },
      "source": [
        "Ao realizar o teste com busca local, é possível concluir que este é muito demorado. Isso se dá principalmente porque ele tem que quebrar uma das sequencias de entrada em partes menores (utilizando p e k) e testar a combinação dessas partes com a outra sequência várias vezes. Foi necessário diminuir a quantidade de vezes que o algorítimo faz diferentes quebras de 100 para 10, para que o tempo seja possível de realizar."
      ]
    },
    {
      "cell_type": "markdown",
      "id": "d22f4df7",
      "metadata": {
        "id": "d22f4df7"
      },
      "source": [
        "# Busca Exaustiva com auxílio de Smith-Waterman"
      ]
    },
    {
      "cell_type": "markdown",
      "id": "23349021",
      "metadata": {
        "id": "23349021"
      },
      "source": [
        "Busca exaustiva é um algorítimo que foca-se muito em exploration, sendo assim este gera todas as possíveis subsequências para conseguir encontrar a melhor combinação das sequências de entrada."
      ]
    },
    {
      "cell_type": "markdown",
      "id": "963948fb",
      "metadata": {
        "id": "963948fb"
      },
      "source": [
        "Os arquivos de entrada para busca exaustiva tiveram que mudar muito. Primeiramente foi testado localmente que a demora para entradas com tamanhos maiores que 80 eram extremamente altas. Com isso, foi estabelicido que o máximo que a entrada possa ser era 70. Além disso, para não demorar muito, foi diminuido a quantidade de arquivos de entrada."
      ]
    },
    {
      "cell_type": "code",
      "execution_count": 15,
      "id": "7c279bee",
      "metadata": {
        "id": "7c279bee",
        "scrolled": true
      },
      "outputs": [],
      "source": [
        "for i in range(5, 65, 3):\n",
        "    for e in range (0,5):\n",
        "        n = i\n",
        "        m = i + 5\n",
        "        file = \"./inputs_exaust/dna{0}_{1}.seq\".format(i,e)# nome do arquivo a ser gerado\n",
        "        f = open(file, 'w')\n",
        "        seq=[str(n)+'\\n',\n",
        "             str(m)+'\\n',\n",
        "             ''.join(random.choices(['A','T','C','G','-'],k=n))+'\\n',\n",
        "             ''.join(random.choices(['A','T','C','G','-'],k=m))]\n",
        "        f.writelines(seq)\n",
        "        f.close()"
      ]
    },
    {
      "cell_type": "code",
      "execution_count": 16,
      "id": "d0f74be0",
      "metadata": {
        "id": "d0f74be0",
        "scrolled": true
      },
      "outputs": [],
      "source": [
        "arqs = [f'./inputs_exaust/dna{i}_{e}.seq' for i in range(5,65,3) for e in range(0,5)]"
      ]
    },
    {
      "cell_type": "code",
      "execution_count": 17,
      "id": "744f7db4",
      "metadata": {
        "id": "744f7db4"
      },
      "outputs": [],
      "source": [
        "qnt_iguais = 4\n",
        "tempos_entrada_igual = []\n",
        "tempo_medio = 0\n",
        "tempos_exaust = []\n",
        "contador = 0\n",
        "for arq in arqs:\n",
        "    if(contador < qnt_iguais):\n",
        "        tempos_entrada_igual.append(roda_com_entrada('./busca_exaustiva/busca_exaustiva', arq))\n",
        "        contador += 1\n",
        "    \n",
        "    else:\n",
        "        for tempo in tempos_entrada_igual:\n",
        "            tempo_medio += float(tempo[1])\n",
        "        tempos_exaust.append(tempo_medio/5)\n",
        "        contador = 0\n",
        "        tempos_entrada_igual = []"
      ]
    },
    {
      "cell_type": "code",
      "execution_count": 18,
      "id": "6b625b99",
      "metadata": {
        "colab": {
          "base_uri": "https://localhost:8080/"
        },
        "id": "6b625b99",
        "outputId": "efbdc423-aa43-45f2-808f-c7fe3b33a547"
      },
      "outputs": [
        {
          "name": "stdout",
          "output_type": "stream",
          "text": [
            "[5, 8, 11, 14, 17, 20, 23, 26, 29, 32, 35, 38, 41, 44, 47, 50, 53, 56, 59, 62]\n"
          ]
        }
      ],
      "source": [
        "N_exaust = []\n",
        "qnt_iguais = 4\n",
        "contador = 0\n",
        "for arq in arqs:\n",
        "    if contador < qnt_iguais:\n",
        "        contador += 1\n",
        "    else:\n",
        "        with open(arq) as f:\n",
        "            n = int(f.readlines()[0])\n",
        "            N_exaust.append(n)\n",
        "        contador = 0\n",
        "print(N_exaust)\n"
      ]
    },
    {
      "cell_type": "code",
      "execution_count": 19,
      "id": "207e464c",
      "metadata": {
        "colab": {
          "base_uri": "https://localhost:8080/",
          "height": 334
        },
        "id": "207e464c",
        "outputId": "b7936679-bdae-49d3-bc1a-0f42595b0673",
        "scrolled": true
      },
      "outputs": [
        {
          "data": {
            "image/png": "[encoded data removed]",
            "text/plain": [
              "<Figure size 720x360 with 1 Axes>"
            ]
          },
          "metadata": {
            "needs_background": "light"
          },
          "output_type": "display_data"
        }
      ],
      "source": [
        "fig, ax = plt.subplots(figsize=(10,5))\n",
        "ax.set_xlabel('n')\n",
        "ax.set_ylabel('tempo (seg)')\n",
        "ax.scatter(N_exaust, tempos_exaust)\n",
        "plt.show()"
      ]
    },
    {
      "cell_type": "markdown",
      "id": "3d3b152a",
      "metadata": {
        "id": "3d3b152a"
      },
      "source": [
        "Busca Exaustiva é muito demorado porque além do que o busca local faz, esse quebra as duas sequências em todas as subsquências possíveis, logo tem que fazer o dobro do esforço."
      ]
    },
    {
      "cell_type": "markdown",
      "id": "633f93d3",
      "metadata": {
        "id": "633f93d3"
      },
      "source": [
        "___"
      ]
    },
    {
      "cell_type": "markdown",
      "id": "434bdcc3",
      "metadata": {
        "id": "434bdcc3"
      },
      "source": [
        "# Busca Exaustiva com truncagem"
      ]
    },
    {
      "cell_type": "code",
      "execution_count": 20,
      "id": "74d27e17",
      "metadata": {
        "id": "74d27e17"
      },
      "outputs": [],
      "source": [
        "arqs = [f'./inputs_exaust/dna{i}_{e}.seq' for i in range(5,65,3) for e in range(0,5)]"
      ]
    },
    {
      "cell_type": "code",
      "execution_count": 21,
      "id": "e502954c",
      "metadata": {
        "id": "e502954c",
        "outputId": "9a2003c9-484f-4cbb-968c-ab209c93f8f6"
      },
      "outputs": [],
      "source": [
        "qnt_iguais = 4\n",
        "tempos_entrada_igual = []\n",
        "tempo_medio = 0\n",
        "tempos_exaust_trunc = []\n",
        "contador = 0\n",
        "for arq in arqs:\n",
        "    if(contador < qnt_iguais):\n",
        "        tempos_entrada_igual.append(roda_com_entrada('./busca_exaustiva/busca_exaustiva_trunc', arq))\n",
        "        contador += 1\n",
        "    \n",
        "    else:\n",
        "        for tempo in tempos_entrada_igual:\n",
        "            tempo_medio += float(tempo[1])\n",
        "        tempos_exaust_trunc.append(tempo_medio/5)\n",
        "        contador = 0\n",
        "        tempos_entrada_igual = []"
      ]
    },
    {
      "cell_type": "code",
      "execution_count": 22,
      "id": "54824902",
      "metadata": {
        "id": "54824902",
        "outputId": "d3784e2c-d38b-4317-fa0f-885374897464"
      },
      "outputs": [
        {
          "name": "stdout",
          "output_type": "stream",
          "text": [
            "[5, 8, 11, 14, 17, 20, 23, 26, 29, 32, 35, 38, 41, 44, 47, 50, 53, 56, 59, 62]\n"
          ]
        }
      ],
      "source": [
        "N_exaust_trunc = []\n",
        "qnt_iguais = 4\n",
        "contador = 0\n",
        "for arq in arqs:\n",
        "    if contador < qnt_iguais:\n",
        "        contador += 1\n",
        "    else:\n",
        "        with open(arq) as f:\n",
        "            n = int(f.readlines()[0])\n",
        "            N_exaust_trunc.append(n)\n",
        "        contador = 0\n",
        "print(N_exaust_trunc)\n"
      ]
    },
    {
      "cell_type": "code",
      "execution_count": 23,
      "id": "1deaef9d",
      "metadata": {
        "id": "1deaef9d",
        "outputId": "e97a4884-afbd-42e5-aa16-72afbc964158"
      },
      "outputs": [
        {
          "data": {
            "image/png": "[encoded data removed]",
            "text/plain": [
              "<Figure size 720x360 with 1 Axes>"
            ]
          },
          "metadata": {
            "needs_background": "light"
          },
          "output_type": "display_data"
        }
      ],
      "source": [
        "fig, ax = plt.subplots(figsize=(10,5))\n",
        "ax.set_xlabel('n')\n",
        "ax.set_ylabel('tempo (seg)')\n",
        "ax.scatter(N_exaust_trunc, tempos_exaust_trunc)\n",
        "plt.show()"
      ]
    },
    {
      "cell_type": "markdown",
      "id": "1b883688",
      "metadata": {
        "id": "1b883688"
      },
      "source": [
        "___"
      ]
    },
    {
      "cell_type": "markdown",
      "id": "87736adb",
      "metadata": {
        "id": "87736adb"
      },
      "source": [
        "# Paralelismo CPU"
      ]
    },
    {
      "cell_type": "markdown",
      "id": "09c588b0",
      "metadata": {
        "id": "09c588b0"
      },
      "source": [
        "Ao realizar o teste de execução com o busca exaustiva não truncado, é possível perceber que, como esperado, o algorítimo atinge o melhor score. Porém atingir tal qualidade custa caro, já que o tempo de realização deste é muito longo. Isso se dá majoritariamente por estarmos tratando sequencialmente o problema, ou seja, quebrando as sequências em todas as subsequências possíveis e fazendo o teste de comparação para cada par, uma depois da outra. \n",
        "\n",
        "Dessa forma, para poder diminuir o tempo de execução, vamos alterar a metodologia de sequencial para paralelizada. Primeiramente, vamos testar com a parelização na CPU, se apropriando da biblioteca OpenMP, a qual utiliza diversas threads da CPU para executar uma parte específica do programa.\n",
        "\n",
        "A questão inicial nessa etapa seria questionar qual parte do código poderia ser paralelizado. Para responder isso, basta imaginar qual é a parte sequencial do código, que poderia ser duas partes, ou a geração das subsequências ou o cálculo do score. Em tese, o ideal para parelelizar, seria fazer ambas as etapas com OpenMP, mas vamos fazer apenas no cálculo do score e ver o quanto melhora e recomendar que uma próxima iteração seria implementar o OpenMP na criação de subsequências também.\n",
        "\n",
        "![image.png](attachment:image.png)"
      ]
    },
    {
      "cell_type": "markdown",
      "id": "dc1da65d",
      "metadata": {
        "id": "dc1da65d"
      },
      "source": [
        "Para implementar, foi necessário criar um struc que era composto por uma variavel numérica (score) e duas strings (subsequenciaA e subsequenciaB). Além disso, foi criado um vetor desse struct. Assim, logo antes de calcular o score das subsquencias era necessário montar esse vetor com todas as subsequencias e scores 0. Com o vetor montado, foi realizado um paralell for que usava a paralelização das threads para calcular o score das subsequencias, de maneira paralelizada "
      ]
    },
    {
      "cell_type": "code",
      "execution_count": 24,
      "id": "f94250ae",
      "metadata": {
        "id": "f94250ae"
      },
      "outputs": [],
      "source": [
        "arqs = [f'./inputs_exaust/dna{i}_{e}.seq' for i in range(5,65,3) for e in range(0,5)]"
      ]
    },
    {
      "cell_type": "code",
      "execution_count": 25,
      "id": "008ede08",
      "metadata": {
        "id": "008ede08"
      },
      "outputs": [],
      "source": [
        "qnt_iguais = 4\n",
        "tempos_entrada_igual = []\n",
        "tempo_medio = 0\n",
        "tempos_exaust_par_cpu = []\n",
        "contador = 0\n",
        "for arq in arqs:\n",
        "    if(contador < qnt_iguais):\n",
        "        tempos_entrada_igual.append(roda_com_entrada('./paralelismo_CPU/paralelismo_exaustivo_par', arq))\n",
        "        contador += 1\n",
        "    \n",
        "    else:\n",
        "        for tempo in tempos_entrada_igual:\n",
        "            tempo_medio += float(tempo[1])\n",
        "        tempos_exaust_par_cpu.append(tempo_medio/5)\n",
        "        contador = 0\n",
        "        tempos_entrada_igual = []"
      ]
    },
    {
      "cell_type": "code",
      "execution_count": 26,
      "id": "54df6918",
      "metadata": {
        "id": "54df6918",
        "outputId": "f85832b1-7881-432c-c1cd-c2f236aac188"
      },
      "outputs": [
        {
          "name": "stdout",
          "output_type": "stream",
          "text": [
            "[5, 8, 11, 14, 17, 20, 23, 26, 29, 32, 35, 38, 41, 44, 47, 50, 53, 56, 59, 62]\n"
          ]
        }
      ],
      "source": [
        "N_exaust_par_cpu = []\n",
        "qnt_iguais = 4\n",
        "contador = 0\n",
        "for arq in arqs:\n",
        "    if contador < qnt_iguais:\n",
        "        contador += 1\n",
        "    else:\n",
        "        with open(arq) as f:\n",
        "            n = int(f.readlines()[0])\n",
        "            N_exaust_par_cpu.append(n)\n",
        "        contador = 0\n",
        "print(N_exaust_par_cpu)\n"
      ]
    },
    {
      "cell_type": "code",
      "execution_count": 27,
      "id": "6e7b11e5",
      "metadata": {
        "id": "6e7b11e5",
        "outputId": "f97abd87-8fe7-4018-b69a-0565dee9b3cd",
        "scrolled": true
      },
      "outputs": [
        {
          "data": {
            "image/png": "[encoded data removed]",
            "text/plain": [
              "<Figure size 720x360 with 1 Axes>"
            ]
          },
          "metadata": {
            "needs_background": "light"
          },
          "output_type": "display_data"
        }
      ],
      "source": [
        "fig, ax = plt.subplots(figsize=(10,5))\n",
        "ax.set_xlabel('n')\n",
        "ax.set_ylabel('tempo (seg)')\n",
        "ax.scatter(N_exaust_par_cpu, tempos_exaust_par_cpu)\n",
        "plt.show()"
      ]
    },
    {
      "cell_type": "markdown",
      "id": "uBwQ1QAOaXn7",
      "metadata": {
        "id": "uBwQ1QAOaXn7"
      },
      "source": [
        "# Paralelização GPU\n",
        "\n",
        "A paralelização de dados na GPU pode aparecer atraente no cenário de alinhamento de DNA, já que é uma peça de hardware muito poderosa. Porém, é necessário entender que o nível de processamento da GPU não é signifcamente superior à da CPU. Ainda assim, é possível que a GPU cumpra a tarefa de encontrar o score de maneira mais rápida.\n",
        "\n",
        "Isso se dá pela qualidade de throughput que a GPU tem, ou seja, a alta vazão que ela apresenta. Em outras palavras, é possível entregar muitos dados a GPU e receber as alterações deles em grande volume também, algo que a CPU não tem capacidade, já que ela não aguenta a mesma quantidade de volume.\n",
        "\n",
        "Com isso em mente, para aplicar a paralelização de GPU adapatou-se toda a etapa de cálculo de score para que essa fosse realizada na GPU.\n",
        "\n",
        "\n"
      ]
    },
    {
      "cell_type": "code",
      "execution_count": 50,
      "id": "3H7UKPXI4RSr",
      "metadata": {
        "id": "3H7UKPXI4RSr"
      },
      "outputs": [],
      "source": [
        "for i in range(1, 10, 1): \n",
        "    for e in range(0,3):\n",
        "        n = i\n",
        "        m = i + 5\n",
        "        file = \"./inputs_exaust_GPU/dna{0}_{1}.seq\".format(i,e)\n",
        "        f = open(file, 'w')\n",
        "        seq=[str(n)+'\\n',\n",
        "             str(m)+'\\n',\n",
        "             ''.join(random.choices(['A','T','C','G','-'],k=n))+'\\n',\n",
        "             ''.join(random.choices(['A','T','C','G','-'],k=m))]\n",
        "        f.writelines(seq)\n",
        "        f.close()"
      ]
    },
    {
      "cell_type": "code",
      "execution_count": 51,
      "id": "_Fr5GM5D5yke",
      "metadata": {
        "id": "_Fr5GM5D5yke"
      },
      "outputs": [],
      "source": [
        "arqs = [f'./inputs_exaust_GPU/dna{i}_{e}.seq' for i in range(1, 10, 1) for e in range(0,3)]"
      ]
    },
    {
      "cell_type": "code",
      "execution_count": 52,
      "id": "6m92Q9DM53Pi",
      "metadata": {
        "id": "6m92Q9DM53Pi"
      },
      "outputs": [],
      "source": [
        "qnt_iguais = 2\n",
        "tempos_entrada_igual = []\n",
        "tempo_medio = 0\n",
        "tempos_exaust_GPU = []\n",
        "contador = 0\n",
        "for arq in arqs:\n",
        "    if(contador < qnt_iguais):\n",
        "        tempos_entrada_igual.append(roda_com_entrada('./paralelismo_GPU/busca_exaustiva_GPU', arq))\n",
        "        contador += 1\n",
        "    \n",
        "    else:\n",
        "        for tempo in tempos_entrada_igual:\n",
        "            tempo_medio += float(tempo[1])\n",
        "        tempos_exaust_GPU.append(tempo_medio/5)\n",
        "        contador = 0\n",
        "        tempos_entrada_igual = []"
      ]
    },
    {
      "cell_type": "code",
      "execution_count": 53,
      "id": "-BsMkhG88jJu",
      "metadata": {
        "colab": {
          "base_uri": "https://localhost:8080/"
        },
        "id": "-BsMkhG88jJu",
        "outputId": "78e81a03-46e8-4c10-a909-91c09b42404e"
      },
      "outputs": [
        {
          "name": "stdout",
          "output_type": "stream",
          "text": [
            "[1, 2, 3, 4, 5, 6, 7, 8, 9]\n"
          ]
        }
      ],
      "source": [
        "N_exaust_GPU = []\n",
        "qnt_iguais = 2\n",
        "contador = 0\n",
        "for arq in arqs:\n",
        "    if contador < qnt_iguais:\n",
        "        contador += 1\n",
        "    else:\n",
        "        with open(arq) as f:\n",
        "            n = int(f.readlines()[0])\n",
        "            N_exaust_GPU.append(n)\n",
        "        contador = 0\n",
        "print(N_exaust_GPU)"
      ]
    },
    {
      "cell_type": "code",
      "execution_count": 54,
      "id": "Pa8peJvf8vIx",
      "metadata": {
        "colab": {
          "base_uri": "https://localhost:8080/",
          "height": 334
        },
        "id": "Pa8peJvf8vIx",
        "outputId": "fa0d11c3-5ad8-4723-e6ea-98250ebf61cd"
      },
      "outputs": [
        {
          "data": {
            "image/png": "[encoded data removed]",
            "text/plain": [
              "<Figure size 720x360 with 1 Axes>"
            ]
          },
          "metadata": {
            "needs_background": "light"
          },
          "output_type": "display_data"
        }
      ],
      "source": [
        "fig, ax = plt.subplots(figsize=(10,5))\n",
        "ax.set_xlabel('n')\n",
        "ax.set_ylabel('tempo (seg)')\n",
        "ax.scatter(N_exaust_GPU, tempos_exaust_GPU)\n",
        "plt.show()"
      ]
    },
    {
      "cell_type": "markdown",
      "id": "FgAayVXHGlG7",
      "metadata": {
        "id": "FgAayVXHGlG7"
      },
      "source": [
        "Ao executar o programa de paralelização da GPU, descobre-se que o tempo de execução é muito longo, mais longo que a não paralelização. Para poder ao menos gerar uma sequência básica de resultados, foi necessário então mudar a quantidade e o tamanho máximo de sequências de entrada.\n",
        "\n",
        "O motivo para a execução ser tão longa se dá pelo fato de o código não conseguir se apropriar tanto do recurso de alta vazão da GPU, apenas criar objetos no hardware um depois do outro e não botando todos de uma vez la. Além disso, o ato de colocar dados na GPU é muito demorado , acarretando com o fato de a GPU ser mais demorada que a CPU.\n",
        "\n",
        "Dessa forma, para melhorar o tempo, foi realizado uma tentativa de envia dois vetores de char para a GPU composta pela sequência A e a sequência B. Com isso, seria feito um transform que calcularia score de uma maneira diferente do Smith Wallerman, em que se os caracteres fossem iguais, a sequencia ganhava dois pontos e caso contrário -1. A única parte mais trabalhosa seria escolher como o transform ia peganado as subsequências escolhendo os índices apropriados para comparar. Infelizmente, esse métodos não foi aplicado mas deveria executa todas as subsquências possíveis, logo, é possível usar o programa para ver se a paralelização da GPU realmente ajuda na economia de tempo. Com isso temos:\n"
      ]
    },
    {
      "cell_type": "markdown",
      "id": "6dead5f0",
      "metadata": {
        "id": "6dead5f0"
      },
      "source": [
        "# Conclusão"
      ]
    },
    {
      "cell_type": "code",
      "execution_count": 41,
      "id": "4ec2779b",
      "metadata": {
        "id": "4ec2779b",
        "outputId": "a73fee6e-a587-4b43-e3c1-9b3acc491e89",
        "scrolled": true
      },
      "outputs": [
        {
          "data": {
            "image/png": "[encoded data removed]",
            "text/plain": [
              "<Figure size 720x360 with 1 Axes>"
            ]
          },
          "metadata": {
            "needs_background": "light"
          },
          "output_type": "display_data"
        }
      ],
      "source": [
        "fig, ax = plt.subplots(figsize=(10,5))\n",
        "ax.set_xlabel('n')\n",
        "ax.set_ylabel('tempo (seg)')\n",
        "ax.plot(N_Heuristica, tempos_Heuristica, label='Heuristica Ingenua')\n",
        "plt.plot(N_local, tempos_local, label='Busca Local')\n",
        "ax.plot(N_exaust, tempos_exaust, label='Busca Exaustiva')\n",
        "plt.plot(N_exaust_trunc, tempos_exaust_trunc, label='Busca Exaustiva Trunc')\n",
        "plt.legend()\n",
        "plt.show()"
      ]
    },
    {
      "cell_type": "markdown",
      "id": "c3d8e8a3",
      "metadata": {
        "id": "c3d8e8a3"
      },
      "source": [
        "Com o gráfico acima, é facilmente possível de perceber que o algorítimo ingênuo é o mais rápido para qualquer tamanho de entrada e o Busca Exaustiva (com o auxílio do algorítimo de Smith-Wallerman) é extremamente demorado para entradas de n grande. A crescente demora para a relização desses algorítimos (de Ingênuo para busca local, busca exaustiva truncada e busca exaustiva) se dá pelo fato de os mais demorados tem que quebrar as entradas e fazer diversas combinações a mais."
      ]
    },
    {
      "cell_type": "code",
      "execution_count": 55,
      "id": "o4U31Z2TIEDW",
      "metadata": {
        "id": "o4U31Z2TIEDW"
      },
      "outputs": [
        {
          "data": {
            "image/png": "[encoded data removed]",
            "text/plain": [
              "<Figure size 720x360 with 1 Axes>"
            ]
          },
          "metadata": {
            "needs_background": "light"
          },
          "output_type": "display_data"
        }
      ],
      "source": [
        "fig, ax = plt.subplots(figsize=(10,5))\n",
        "ax.set_xlabel('n')\n",
        "ax.set_ylabel('tempo (seg)')\n",
        "ax.plot(N_exaust, tempos_exaust, label='Busca Exaustiva')\n",
        "plt.plot(N_exaust_par_cpu, tempos_exaust_par_cpu, label='Busca Exaustiva CPU')\n",
        "plt.plot(N_exaust_GPU, tempos_exaust_GPU, label='Busca Exaustiva GPU')\n",
        "plt.legend()\n",
        "plt.show()"
      ]
    },
    {
      "cell_type": "code",
      "execution_count": null,
      "id": "df771804",
      "metadata": {},
      "outputs": [],
      "source": [
        "df = pd.DataFrame(list(zip(tempos_exaust, tempos_exaust_par_cpu)),\n",
        "               columns =['Não paralelizado', 'Paralelizado'])\n",
        "df"
      ]
    },
    {
      "cell_type": "markdown",
      "id": "4f5371ca",
      "metadata": {},
      "source": [
        "Pelo gráfico, o Busca Exaustiva paralela da CPU teve um desempenho muito similar ao Busca Exaustiva normal. Para ver quem é melhor, foi montado a tabela acima. Vemos que para ns menores o busca exaustiva normal é um pouco melhor. Isso se dá porque alocar as threads da CPU faz com que demore um poquinho mais, mas, para ns maiores, o paralelizado é relativamente melhor (superior à diferença de ns menores). Por fim, por problemas já expresso a paralelização na GPU é o pior de todos por tratar sequecialmente a GPU, ou seja, já tem a demora sequencial, somado ao fato de a GPU ser mais lerda que a CPU e que existe uma demora de transporte de dados da CPU à GPU."
      ]
    },
    {
      "cell_type": "markdown",
      "id": "17b69252",
      "metadata": {
        "id": "17b69252"
      },
      "source": [
        "## Comparação dos resultados:"
      ]
    },
    {
      "cell_type": "markdown",
      "id": "71f55a4b",
      "metadata": {
        "id": "71f55a4b"
      },
      "source": [
        "Para comparar qual algorítimo consegue atingir melhores resultados de pontução foi fixado duas entradas de tamanho 60 tanto para a primeira, quanto para a segunda sequencia"
      ]
    },
    {
      "cell_type": "markdown",
      "id": "be538f1b",
      "metadata": {
        "id": "be538f1b"
      },
      "source": [
        "GA-C-TCC-GACACTCAGCCTTCAGGC-G-ATGCGCAT-G--TCCGTCGCA-AAGATT-G\n",
        "GG-AGT-TGGCA-ATG-G-G-CGTTA-ACC--AG-TGCGCTCGGGA-AC-TCCGAGACG-"
      ]
    },
    {
      "cell_type": "markdown",
      "id": "6e4f293d",
      "metadata": {
        "id": "6e4f293d"
      },
      "source": [
        "Com isso foram obtidos os resultados:"
      ]
    },
    {
      "cell_type": "markdown",
      "id": "554b3b16",
      "metadata": {
        "id": "554b3b16"
      },
      "source": [
        "Ingênuo:"
      ]
    },
    {
      "cell_type": "raw",
      "id": "bd689817",
      "metadata": {
        "id": "bd689817"
      },
      "source": [
        "comb1: G-A-C-TCC-GACAC-TCAGC--C-TTCAGGC--G-A--TGCGCAT-G-------TCCGTCG-CA-\n",
        "comb2: G-AGT-TG--G-CA-ATG-G-G-CGTT-A-ACC---AG-TGCGC-TCGGGA-AC-TCCGA-GACG-\n",
        "score: 33\n"
      ]
    },
    {
      "cell_type": "markdown",
      "id": "56eba4e8",
      "metadata": {
        "id": "56eba4e8"
      },
      "source": [
        "Busca local:"
      ]
    },
    {
      "cell_type": "raw",
      "id": "cfd06b1b",
      "metadata": {
        "id": "cfd06b1b"
      },
      "source": [
        "BEST SCORE:32\n",
        "SA: TCAGCCTTCAGGC-G-ATGCGCAT-G--TCCGTCGCA-AAGATT-G\n",
        "SB: TGG-CGTTA-ACC--AG-TGCGCTCGGGA-AC-TCCGAGACGTTA-\n"
      ]
    },
    {
      "cell_type": "markdown",
      "id": "daabd633",
      "metadata": {
        "id": "daabd633"
      },
      "source": [
        "Busca exaustiva Smithen Wallerman"
      ]
    },
    {
      "cell_type": "raw",
      "id": "296ca4cf",
      "metadata": {
        "id": "296ca4cf"
      },
      "source": [
        "Score Maximo: 35\n",
        "Sub Seq1 Best: GA-C-TCC-GACACTCAGCCTTCAGGC-G-AT\n",
        "Sub Seq2 Best: GG-AGT-TGGCA-ATG-G-G-CGTTA-ACC--\n"
      ]
    },
    {
      "cell_type": "markdown",
      "id": "951e9a5a",
      "metadata": {
        "id": "951e9a5a"
      },
      "source": [
        "Busca exaustiva com truncamento"
      ]
    },
    {
      "cell_type": "raw",
      "id": "c360cc02",
      "metadata": {
        "id": "c360cc02"
      },
      "source": [
        "Score Maximo: 9\n",
        "Sub Seq1 Best: GGC\n",
        "Sub Seq2 Best: GGG"
      ]
    },
    {
      "cell_type": "markdown",
      "id": "58784574",
      "metadata": {
        "id": "58784574"
      },
      "source": [
        "O ponto interessante da comparação entre os scores dos algorítimos é que o busca exaustiva teve o melhor desempenho, porém não um tão melhor quanto o ingênuo. Isso gera uma dúvida a respeito da relevância de se utilizar o busca exaustiva, já que ele é muito demorado e não possui um resultado tão melhor quanto o ingênuo. Ao mesmo tempo, seria necessário fazer mais testes. \n",
        "\n",
        "Além disso, algo curioso foi o resultado do algorítimo aleatório do busca local que obteve um score adequado, podendo ser bem utilizado em cenários para familiarizar com a situação e validar um score de um outro algorítimo.\n",
        "\n",
        "Por fim, o busca exaustiva com truncamento se demonstrou muito pouco eficiente por ser demorado e possuir um desempenho de score muito ruim."
      ]
    },
    {
      "cell_type": "markdown",
      "id": "0988ee63",
      "metadata": {
        "id": "0988ee63"
      },
      "source": [
        "## Profiling"
      ]
    },
    {
      "cell_type": "markdown",
      "id": "f29aa0b0",
      "metadata": {
        "id": "f29aa0b0"
      },
      "source": [
        "Realizado vallgrind com a mesma entrada acima"
      ]
    },
    {
      "cell_type": "markdown",
      "id": "c2cda0c9",
      "metadata": {
        "id": "c2cda0c9"
      },
      "source": [
        "Ingenuo"
      ]
    },
    {
      "cell_type": "markdown",
      "id": "7dc60c72",
      "metadata": {
        "id": "7dc60c72"
      },
      "source": [
        "![SmithIngenuo1.png](attachment:SmithIngenuo1.png)"
      ]
    },
    {
      "cell_type": "markdown",
      "id": "2f9f628a",
      "metadata": {
        "id": "2f9f628a"
      },
      "source": [
        "![passandomatrix.png](attachment:passandomatrix.png)"
      ]
    },
    {
      "cell_type": "markdown",
      "id": "13d255ad",
      "metadata": {
        "id": "13d255ad"
      },
      "source": [
        "Busca Local"
      ]
    },
    {
      "cell_type": "markdown",
      "id": "c3b1cd9a",
      "metadata": {
        "id": "c3b1cd9a"
      },
      "source": [
        "![busca_local.png](attachment:busca_local.png)"
      ]
    },
    {
      "cell_type": "markdown",
      "id": "d4077e5c",
      "metadata": {
        "id": "d4077e5c"
      },
      "source": [
        "Busca Exaustiva SmithWallerman"
      ]
    },
    {
      "cell_type": "markdown",
      "id": "a348c765",
      "metadata": {
        "id": "a348c765"
      },
      "source": [
        "![busca_exaustiva_Smith_part.png](attachment:busca_exaustiva_Smith_part.png)"
      ]
    },
    {
      "cell_type": "markdown",
      "id": "729f3d49",
      "metadata": {
        "id": "729f3d49"
      },
      "source": [
        "![busca_exaustiva.png](attachment:busca_exaustiva.png)"
      ]
    },
    {
      "cell_type": "markdown",
      "id": "6fff2b65",
      "metadata": {
        "id": "6fff2b65"
      },
      "source": [
        "Busca Exaustiva Trunc"
      ]
    },
    {
      "cell_type": "markdown",
      "id": "769de863",
      "metadata": {
        "id": "769de863"
      },
      "source": [
        "![Busca_exaustiva_trunc.png](attachment:Busca_exaustiva_trunc.png)"
      ]
    },
    {
      "cell_type": "markdown",
      "id": "b72eae06",
      "metadata": {
        "id": "b72eae06"
      },
      "source": [
        "Com o uso de vallgrind é possível perceber que em todos os algorítimos o que causa maior lentidão são os fors. Esses deveriam ser evitados para melhorar a lentidão. Além disso, seria melhor se não fosse utlizado matrizes, já que muitas vezes é necessário percorrer por toda ela."
      ]
    }
  ],
  "metadata": {
    "accelerator": "GPU",
    "colab": {
      "collapsed_sections": [
        "bb2f68be",
        "d22f4df7",
        "434bdcc3",
        "17b69252",
        "0988ee63"
      ],
      "name": "Relatorio Final.ipynb",
      "provenance": []
    },
    "interpreter": {
      "hash": "31f2aee4e71d21fbe5cf8b01ff0e069b9275f58929596ceb00d14d90e3e16cd6"
    },
    "kernelspec": {
      "display_name": "Python 3.8.10 64-bit",
      "language": "python",
      "name": "python3"
    },
    "language_info": {
      "codemirror_mode": {
        "name": "ipython",
        "version": 3
      },
      "file_extension": ".py",
      "mimetype": "text/x-python",
      "name": "python",
      "nbconvert_exporter": "python",
      "pygments_lexer": "ipython3",
      "version": "3.8.10"
    }
  },
  "nbformat": 4,
  "nbformat_minor": 5
}
